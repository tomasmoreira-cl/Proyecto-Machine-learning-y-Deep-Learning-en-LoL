{
 "cells": [
  {
   "cell_type": "code",
   "execution_count": 1,
   "id": "3f15a16a-30cc-43c9-9f7a-c779dba6a221",
   "metadata": {},
   "outputs": [],
   "source": [
    "import pandas as pd\n",
    "import numpy as np\n",
    "import seaborn as sns\n",
    "import matplotlib.pyplot as plt\n",
    "from funciones import *\n",
    "\n",
    "# modelamiento\n",
    "from sklearn.svm import SVC, LinearSVC\n",
    "from sklearn.model_selection import train_test_split, GridSearchCV\n",
    "from sklearn.metrics import f1_score, classification_report, confusion_matrix, roc_curve, roc_auc_score\n",
    "from sklearn.preprocessing import StandardScaler\n",
    "from sklearn.linear_model import LogisticRegression\n",
    "from sklearn.tree import DecisionTreeClassifier\n",
    "from sklearn.ensemble import RandomForestClassifier\n",
    "import xgboost as xgb\n",
    "\n",
    "# Modelo red neuronal\n",
    "import tensorflow as tf\n",
    "from tensorflow.keras.models import Sequential\n",
    "from tensorflow.keras.layers import Dense, Dropout\n",
    "from tensorflow.keras.optimizers import Adam\n",
    "from tensorflow.keras.initializers import HeNormal\n",
    "from tensorflow.keras.regularizers import l2\n",
    "\n",
    "import warnings\n",
    "warnings.filterwarnings('ignore')"
   ]
  },
  {
   "cell_type": "markdown",
   "id": "d6faca6a-9607-4814-be04-c0f0d3da9107",
   "metadata": {
    "jp-MarkdownHeadingCollapsed": true
   },
   "source": [
    "# Objetivos del proyecto"
   ]
  },
  {
   "cell_type": "markdown",
   "id": "be35cdc0-8d1d-4a19-a057-31213ada359f",
   "metadata": {},
   "source": [
    "El siguiente análisis tiene como por objetivo generar un modelo de machine learning que permita predecir que partidas de League Of Legends has sido ganadas o perdidas.  Inlcuyendo el análisis de las diferentes variables que se detecten como priomordiales al momento de ganar una partida.\n",
    "\n",
    "Además, estudiando todas las variables que se implican dentro de la partida, generar observaciones, conclusiones y acciones recomendadas para mejorar el rendimiento de un jugador de League Of Legends en diferentes roles."
   ]
  },
  {
   "cell_type": "markdown",
   "id": "c0158944-abdc-412c-ac29-012621ed0382",
   "metadata": {},
   "source": [
    "## Descripción de variables"
   ]
  },
  {
   "cell_type": "markdown",
   "id": "0612838c-25f0-4d39-8a4e-ffa2281bb22b",
   "metadata": {},
   "source": [
    "- **match_id** = Identificador de la partida  \n",
    "- **champion** = Personaje jugado  \n",
    "- **win** = Si se ganó la partida o no (1: Sí; 0: No)  \n",
    "- **queue_id** = Tipo de partida (solo Flex 440)  \n",
    "- **game_duration** = Duración de la partida en minutos  \n",
    "- **patch** = Versión del juego en el que se realizó la partida  \n",
    "- **kills** = Asesinatos realizados por el jugador en la partida  \n",
    "- **deaths** = Número de veces que ha muerto el jugador en la partida  \n",
    "- **assists** = Número de asistencias que ha tenido el jugador en la partida  \n",
    "- **kda** = KDA obtenido por el jugador en la partida. (Asesinatos + Asistencias) / Muertes  \n",
    "- **role** = Rol del campeón que jugó en la partida el jugador (Mid, Top, Bot-adc, utilidad)  \n",
    "- **lane** = Línea en la que se jugó mayoritariamente durante la partida (JUNGLE, MIDDLE, NONE, BOTTOM, TOP)\n",
    "- **gold_earned** = Oro obtenido  \n",
    "- **gold_spent** = Oro gastado  \n",
    "- **total_minions** = Total de minions asesinados  \n",
    "- **neutral_minions** = Total de monstruos neutrales asesinados  \n",
    "- **total_damage** = Daño total infligido  \n",
    "- **physical_damage** = Total del daño físico infligido  \n",
    "- **magic_damage** = Total del daño mágico infligido  \n",
    "- **true_damage** = Total del daño verdadero infligido  \n",
    "- **damage_taken** = Total de daño recibido  \n",
    "- **damage_healed** = Total de curación  \n",
    "- **vision_score** = Puntuación de visión  \n",
    "- **wards_placed** = Wards utilizados  \n",
    "- **wards_killed** = Wards destruidos  \n",
    "- **vision_wards** = Wards comprados  \n",
    "- **turret_kills** = Torretas destruidas  \n",
    "- **inhibitor_kills** = Inhibidores destruidos  \n",
    "- **dragon_kills** = Dragones asesinados  \n",
    "- **baron_kills** = Barones asesinados  \n",
    "- **rift_herald_kills** = Heraldos asesinados  \n",
    "- **item_0** = Item en la casilla 1  \n",
    "- **item_1** = Item en la casilla 2   \n",
    "- **item_2** = Item en la casilla 3  \n",
    "- **item_3** = Item en la casilla 4    \n",
    "- **item_4** = Item en la casilla 5 \n",
    "- **item_5** = Item en la casilla 6   \n",
    "- **item_6** = Item en la casilla 7    \n",
    "- **primary_rune_tree** = Runa principal utilizada  \n",
    "- **secondary_rune_tree** = Runa secundaria utilizada  \n",
    "- **rune_0_0** = Primera runa rama principal  \n",
    "- **rune_0_1** = Segunda runa rama principal  \n",
    "- **rune_0_2** = Tercera runa rama principal  \n",
    "- **rune_0_3** = Cuarta runa rama principal  \n",
    "- **rune_1_0** = Primera runa rama secundaria  \n",
    "- **rune_1_1** = Segunda runa rama secundaria  "
   ]
  },
  {
   "cell_type": "markdown",
   "id": "b8b778f4-adc3-43a6-8bec-fc329e8f49ad",
   "metadata": {},
   "source": [
    "# Exploración de los datos"
   ]
  },
  {
   "cell_type": "code",
   "execution_count": 2,
   "id": "1e2d7729-bde1-4f41-8f1f-f566fd2d0e4f",
   "metadata": {
    "panel-layout": {
     "height": 2753,
     "visible": true,
     "width": 100
    }
   },
   "outputs": [
    {
     "data": {
      "text/html": [
       "<div>\n",
       "<style scoped>\n",
       "    .dataframe tbody tr th:only-of-type {\n",
       "        vertical-align: middle;\n",
       "    }\n",
       "\n",
       "    .dataframe tbody tr th {\n",
       "        vertical-align: top;\n",
       "    }\n",
       "\n",
       "    .dataframe thead th {\n",
       "        text-align: right;\n",
       "    }\n",
       "</style>\n",
       "<table border=\"1\" class=\"dataframe\">\n",
       "  <thead>\n",
       "    <tr style=\"text-align: right;\">\n",
       "      <th></th>\n",
       "      <th>match_id</th>\n",
       "      <th>champion</th>\n",
       "      <th>win</th>\n",
       "      <th>queue_id</th>\n",
       "      <th>game_duration</th>\n",
       "      <th>patch</th>\n",
       "      <th>kills</th>\n",
       "      <th>deaths</th>\n",
       "      <th>assists</th>\n",
       "      <th>kda</th>\n",
       "      <th>...</th>\n",
       "      <th>item_5</th>\n",
       "      <th>item_6</th>\n",
       "      <th>primary_rune_tree</th>\n",
       "      <th>secondary_rune_tree</th>\n",
       "      <th>rune_0_0</th>\n",
       "      <th>rune_0_1</th>\n",
       "      <th>rune_0_2</th>\n",
       "      <th>rune_0_3</th>\n",
       "      <th>rune_1_0</th>\n",
       "      <th>rune_1_1</th>\n",
       "    </tr>\n",
       "  </thead>\n",
       "  <tbody>\n",
       "    <tr>\n",
       "      <th>0</th>\n",
       "      <td>LA2_1476457036</td>\n",
       "      <td>Blitzcrank</td>\n",
       "      <td>1</td>\n",
       "      <td>440</td>\n",
       "      <td>34</td>\n",
       "      <td>14.24.644.2327</td>\n",
       "      <td>5</td>\n",
       "      <td>6</td>\n",
       "      <td>23</td>\n",
       "      <td>4.666667e+15</td>\n",
       "      <td>...</td>\n",
       "      <td>2504</td>\n",
       "      <td>3364</td>\n",
       "      <td>8300</td>\n",
       "      <td>8200</td>\n",
       "      <td>8351</td>\n",
       "      <td>8306</td>\n",
       "      <td>8345</td>\n",
       "      <td>8347</td>\n",
       "      <td>8234</td>\n",
       "      <td>8275</td>\n",
       "    </tr>\n",
       "    <tr>\n",
       "      <th>1</th>\n",
       "      <td>LA2_1476464452</td>\n",
       "      <td>Morgana</td>\n",
       "      <td>1</td>\n",
       "      <td>440</td>\n",
       "      <td>31</td>\n",
       "      <td>14.24.644.2327</td>\n",
       "      <td>5</td>\n",
       "      <td>8</td>\n",
       "      <td>14</td>\n",
       "      <td>2.375000e+03</td>\n",
       "      <td>...</td>\n",
       "      <td>6653</td>\n",
       "      <td>3364</td>\n",
       "      <td>8200</td>\n",
       "      <td>8300</td>\n",
       "      <td>8229</td>\n",
       "      <td>8226</td>\n",
       "      <td>8210</td>\n",
       "      <td>8237</td>\n",
       "      <td>8347</td>\n",
       "      <td>8345</td>\n",
       "    </tr>\n",
       "    <tr>\n",
       "      <th>2</th>\n",
       "      <td>LA2_1476660680</td>\n",
       "      <td>Viego</td>\n",
       "      <td>0</td>\n",
       "      <td>440</td>\n",
       "      <td>38</td>\n",
       "      <td>14.24.644.2327</td>\n",
       "      <td>8</td>\n",
       "      <td>13</td>\n",
       "      <td>3</td>\n",
       "      <td>8.461538e-01</td>\n",
       "      <td>...</td>\n",
       "      <td>2019</td>\n",
       "      <td>3364</td>\n",
       "      <td>8000</td>\n",
       "      <td>8300</td>\n",
       "      <td>8010</td>\n",
       "      <td>9111</td>\n",
       "      <td>9104</td>\n",
       "      <td>8014</td>\n",
       "      <td>8347</td>\n",
       "      <td>8304</td>\n",
       "    </tr>\n",
       "    <tr>\n",
       "      <th>3</th>\n",
       "      <td>LA2_1487034715</td>\n",
       "      <td>Hecarim</td>\n",
       "      <td>0</td>\n",
       "      <td>440</td>\n",
       "      <td>38</td>\n",
       "      <td>15.3.656.4086</td>\n",
       "      <td>3</td>\n",
       "      <td>12</td>\n",
       "      <td>12</td>\n",
       "      <td>1.250000e+00</td>\n",
       "      <td>...</td>\n",
       "      <td>1037</td>\n",
       "      <td>3364</td>\n",
       "      <td>8200</td>\n",
       "      <td>8000</td>\n",
       "      <td>8230</td>\n",
       "      <td>8275</td>\n",
       "      <td>8234</td>\n",
       "      <td>8232</td>\n",
       "      <td>9105</td>\n",
       "      <td>9111</td>\n",
       "    </tr>\n",
       "    <tr>\n",
       "      <th>4</th>\n",
       "      <td>LA2_1487041594</td>\n",
       "      <td>Sejuani</td>\n",
       "      <td>1</td>\n",
       "      <td>440</td>\n",
       "      <td>27</td>\n",
       "      <td>15.3.656.4086</td>\n",
       "      <td>4</td>\n",
       "      <td>2</td>\n",
       "      <td>10</td>\n",
       "      <td>7.000000e+00</td>\n",
       "      <td>...</td>\n",
       "      <td>0</td>\n",
       "      <td>3364</td>\n",
       "      <td>8400</td>\n",
       "      <td>8000</td>\n",
       "      <td>8439</td>\n",
       "      <td>8463</td>\n",
       "      <td>8429</td>\n",
       "      <td>8451</td>\n",
       "      <td>9104</td>\n",
       "      <td>9111</td>\n",
       "    </tr>\n",
       "    <tr>\n",
       "      <th>...</th>\n",
       "      <td>...</td>\n",
       "      <td>...</td>\n",
       "      <td>...</td>\n",
       "      <td>...</td>\n",
       "      <td>...</td>\n",
       "      <td>...</td>\n",
       "      <td>...</td>\n",
       "      <td>...</td>\n",
       "      <td>...</td>\n",
       "      <td>...</td>\n",
       "      <td>...</td>\n",
       "      <td>...</td>\n",
       "      <td>...</td>\n",
       "      <td>...</td>\n",
       "      <td>...</td>\n",
       "      <td>...</td>\n",
       "      <td>...</td>\n",
       "      <td>...</td>\n",
       "      <td>...</td>\n",
       "      <td>...</td>\n",
       "      <td>...</td>\n",
       "    </tr>\n",
       "    <tr>\n",
       "      <th>314</th>\n",
       "      <td>LA2_1522282586</td>\n",
       "      <td>Trundle</td>\n",
       "      <td>1</td>\n",
       "      <td>420</td>\n",
       "      <td>31</td>\n",
       "      <td>15.15.701.6241</td>\n",
       "      <td>8</td>\n",
       "      <td>5</td>\n",
       "      <td>14</td>\n",
       "      <td>4.400000e+00</td>\n",
       "      <td>...</td>\n",
       "      <td>0</td>\n",
       "      <td>3364</td>\n",
       "      <td>8000</td>\n",
       "      <td>8300</td>\n",
       "      <td>8005</td>\n",
       "      <td>9111</td>\n",
       "      <td>9104</td>\n",
       "      <td>8014</td>\n",
       "      <td>8410</td>\n",
       "      <td>8304</td>\n",
       "    </tr>\n",
       "    <tr>\n",
       "      <th>315</th>\n",
       "      <td>LA2_1522475460</td>\n",
       "      <td>Trundle</td>\n",
       "      <td>1</td>\n",
       "      <td>420</td>\n",
       "      <td>28</td>\n",
       "      <td>15.15.701.6241</td>\n",
       "      <td>8</td>\n",
       "      <td>2</td>\n",
       "      <td>12</td>\n",
       "      <td>1.000000e+01</td>\n",
       "      <td>...</td>\n",
       "      <td>3174</td>\n",
       "      <td>3364</td>\n",
       "      <td>8000</td>\n",
       "      <td>8300</td>\n",
       "      <td>8005</td>\n",
       "      <td>9111</td>\n",
       "      <td>9104</td>\n",
       "      <td>8014</td>\n",
       "      <td>8410</td>\n",
       "      <td>8304</td>\n",
       "    </tr>\n",
       "    <tr>\n",
       "      <th>316</th>\n",
       "      <td>LA2_1522484076</td>\n",
       "      <td>Trundle</td>\n",
       "      <td>0</td>\n",
       "      <td>420</td>\n",
       "      <td>24</td>\n",
       "      <td>15.15.701.6241</td>\n",
       "      <td>0</td>\n",
       "      <td>6</td>\n",
       "      <td>2</td>\n",
       "      <td>3.333333e-01</td>\n",
       "      <td>...</td>\n",
       "      <td>0</td>\n",
       "      <td>3364</td>\n",
       "      <td>8000</td>\n",
       "      <td>8300</td>\n",
       "      <td>8005</td>\n",
       "      <td>9111</td>\n",
       "      <td>9104</td>\n",
       "      <td>8014</td>\n",
       "      <td>8410</td>\n",
       "      <td>8304</td>\n",
       "    </tr>\n",
       "    <tr>\n",
       "      <th>317</th>\n",
       "      <td>LA2_1522692779</td>\n",
       "      <td>Trundle</td>\n",
       "      <td>1</td>\n",
       "      <td>420</td>\n",
       "      <td>20</td>\n",
       "      <td>15.15.701.6241</td>\n",
       "      <td>8</td>\n",
       "      <td>2</td>\n",
       "      <td>3</td>\n",
       "      <td>5.500000e+00</td>\n",
       "      <td>...</td>\n",
       "      <td>3078</td>\n",
       "      <td>3364</td>\n",
       "      <td>8000</td>\n",
       "      <td>8300</td>\n",
       "      <td>8005</td>\n",
       "      <td>9111</td>\n",
       "      <td>9104</td>\n",
       "      <td>8014</td>\n",
       "      <td>8410</td>\n",
       "      <td>8304</td>\n",
       "    </tr>\n",
       "    <tr>\n",
       "      <th>318</th>\n",
       "      <td>LA2_1522701106</td>\n",
       "      <td>Trundle</td>\n",
       "      <td>1</td>\n",
       "      <td>420</td>\n",
       "      <td>23</td>\n",
       "      <td>15.15.701.6241</td>\n",
       "      <td>3</td>\n",
       "      <td>1</td>\n",
       "      <td>8</td>\n",
       "      <td>1.100000e+01</td>\n",
       "      <td>...</td>\n",
       "      <td>1031</td>\n",
       "      <td>3364</td>\n",
       "      <td>8000</td>\n",
       "      <td>8300</td>\n",
       "      <td>8005</td>\n",
       "      <td>9111</td>\n",
       "      <td>9104</td>\n",
       "      <td>8014</td>\n",
       "      <td>8410</td>\n",
       "      <td>8304</td>\n",
       "    </tr>\n",
       "  </tbody>\n",
       "</table>\n",
       "<p>319 rows × 46 columns</p>\n",
       "</div>"
      ],
      "text/plain": [
       "           match_id    champion  win  queue_id  game_duration           patch  \\\n",
       "0    LA2_1476457036  Blitzcrank    1       440             34  14.24.644.2327   \n",
       "1    LA2_1476464452     Morgana    1       440             31  14.24.644.2327   \n",
       "2    LA2_1476660680       Viego    0       440             38  14.24.644.2327   \n",
       "3    LA2_1487034715     Hecarim    0       440             38   15.3.656.4086   \n",
       "4    LA2_1487041594     Sejuani    1       440             27   15.3.656.4086   \n",
       "..              ...         ...  ...       ...            ...             ...   \n",
       "314  LA2_1522282586     Trundle    1       420             31  15.15.701.6241   \n",
       "315  LA2_1522475460     Trundle    1       420             28  15.15.701.6241   \n",
       "316  LA2_1522484076     Trundle    0       420             24  15.15.701.6241   \n",
       "317  LA2_1522692779     Trundle    1       420             20  15.15.701.6241   \n",
       "318  LA2_1522701106     Trundle    1       420             23  15.15.701.6241   \n",
       "\n",
       "     kills  deaths  assists           kda  ... item_5 item_6  \\\n",
       "0        5       6       23  4.666667e+15  ...   2504   3364   \n",
       "1        5       8       14  2.375000e+03  ...   6653   3364   \n",
       "2        8      13        3  8.461538e-01  ...   2019   3364   \n",
       "3        3      12       12  1.250000e+00  ...   1037   3364   \n",
       "4        4       2       10  7.000000e+00  ...      0   3364   \n",
       "..     ...     ...      ...           ...  ...    ...    ...   \n",
       "314      8       5       14  4.400000e+00  ...      0   3364   \n",
       "315      8       2       12  1.000000e+01  ...   3174   3364   \n",
       "316      0       6        2  3.333333e-01  ...      0   3364   \n",
       "317      8       2        3  5.500000e+00  ...   3078   3364   \n",
       "318      3       1        8  1.100000e+01  ...   1031   3364   \n",
       "\n",
       "     primary_rune_tree  secondary_rune_tree  rune_0_0  rune_0_1  rune_0_2  \\\n",
       "0                 8300                 8200      8351      8306      8345   \n",
       "1                 8200                 8300      8229      8226      8210   \n",
       "2                 8000                 8300      8010      9111      9104   \n",
       "3                 8200                 8000      8230      8275      8234   \n",
       "4                 8400                 8000      8439      8463      8429   \n",
       "..                 ...                  ...       ...       ...       ...   \n",
       "314               8000                 8300      8005      9111      9104   \n",
       "315               8000                 8300      8005      9111      9104   \n",
       "316               8000                 8300      8005      9111      9104   \n",
       "317               8000                 8300      8005      9111      9104   \n",
       "318               8000                 8300      8005      9111      9104   \n",
       "\n",
       "     rune_0_3  rune_1_0  rune_1_1  \n",
       "0        8347      8234      8275  \n",
       "1        8237      8347      8345  \n",
       "2        8014      8347      8304  \n",
       "3        8232      9105      9111  \n",
       "4        8451      9104      9111  \n",
       "..        ...       ...       ...  \n",
       "314      8014      8410      8304  \n",
       "315      8014      8410      8304  \n",
       "316      8014      8410      8304  \n",
       "317      8014      8410      8304  \n",
       "318      8014      8410      8304  \n",
       "\n",
       "[319 rows x 46 columns]"
      ]
     },
     "execution_count": 2,
     "metadata": {},
     "output_type": "execute_result"
    }
   ],
   "source": [
    "data_riot_flex = pd.read_excel(\"BD_Flex_v2.xlsx\")\n",
    "data_riot_soloq = pd.read_excel(\"BD_soloQ_v2.xlsx\")\n",
    "data_riot = pd.concat([data_riot_flex, data_riot_soloq], ignore_index=True)\n",
    "df_base = data_riot.copy()\n",
    "df_base"
   ]
  },
  {
   "cell_type": "code",
   "execution_count": 3,
   "id": "4609306e-6717-4285-a31f-346946004f10",
   "metadata": {
    "panel-layout": {
     "height": 0,
     "visible": true,
     "width": 100
    }
   },
   "outputs": [
    {
     "name": "stdout",
     "output_type": "stream",
     "text": [
      "<class 'pandas.core.frame.DataFrame'>\n",
      "RangeIndex: 319 entries, 0 to 318\n",
      "Data columns (total 46 columns):\n",
      " #   Column               Non-Null Count  Dtype  \n",
      "---  ------               --------------  -----  \n",
      " 0   match_id             319 non-null    object \n",
      " 1   champion             319 non-null    object \n",
      " 2   win                  319 non-null    int64  \n",
      " 3   queue_id             319 non-null    int64  \n",
      " 4   game_duration        319 non-null    int64  \n",
      " 5   patch                319 non-null    object \n",
      " 6   kills                319 non-null    int64  \n",
      " 7   deaths               319 non-null    int64  \n",
      " 8   assists              319 non-null    int64  \n",
      " 9   kda                  319 non-null    float64\n",
      " 10  role                 319 non-null    object \n",
      " 11  lane                 319 non-null    object \n",
      " 12  gold_earned          319 non-null    int64  \n",
      " 13  gold_spent           319 non-null    int64  \n",
      " 14  total_minions        319 non-null    int64  \n",
      " 15  neutral_minions      319 non-null    int64  \n",
      " 16  total_damage         319 non-null    int64  \n",
      " 17  physical_damage      319 non-null    int64  \n",
      " 18  magic_damage         319 non-null    int64  \n",
      " 19  true_damage          319 non-null    int64  \n",
      " 20  damage_taken         319 non-null    int64  \n",
      " 21  damage_healed        319 non-null    int64  \n",
      " 22  vision_score         319 non-null    int64  \n",
      " 23  wards_placed         319 non-null    int64  \n",
      " 24  wards_killed         319 non-null    int64  \n",
      " 25  vision_wards         319 non-null    int64  \n",
      " 26  turret_kills         319 non-null    int64  \n",
      " 27  inhibitor_kills      319 non-null    int64  \n",
      " 28  dragon_kills         319 non-null    int64  \n",
      " 29  baron_kills          319 non-null    int64  \n",
      " 30  rift_herald_kills    319 non-null    int64  \n",
      " 31  item_0               319 non-null    int64  \n",
      " 32  item_1               319 non-null    int64  \n",
      " 33  item_2               319 non-null    int64  \n",
      " 34  item_3               319 non-null    int64  \n",
      " 35  item_4               319 non-null    int64  \n",
      " 36  item_5               319 non-null    int64  \n",
      " 37  item_6               319 non-null    int64  \n",
      " 38  primary_rune_tree    319 non-null    int64  \n",
      " 39  secondary_rune_tree  319 non-null    int64  \n",
      " 40  rune_0_0             319 non-null    int64  \n",
      " 41  rune_0_1             319 non-null    int64  \n",
      " 42  rune_0_2             319 non-null    int64  \n",
      " 43  rune_0_3             319 non-null    int64  \n",
      " 44  rune_1_0             319 non-null    int64  \n",
      " 45  rune_1_1             319 non-null    int64  \n",
      "dtypes: float64(1), int64(40), object(5)\n",
      "memory usage: 114.8+ KB\n"
     ]
    }
   ],
   "source": [
    "df_base.info()"
   ]
  },
  {
   "cell_type": "code",
   "execution_count": 4,
   "id": "817257b2-57d0-4810-b20f-d3862e23db99",
   "metadata": {},
   "outputs": [
    {
     "data": {
      "text/html": [
       "<div>\n",
       "<style scoped>\n",
       "    .dataframe tbody tr th:only-of-type {\n",
       "        vertical-align: middle;\n",
       "    }\n",
       "\n",
       "    .dataframe tbody tr th {\n",
       "        vertical-align: top;\n",
       "    }\n",
       "\n",
       "    .dataframe thead th {\n",
       "        text-align: right;\n",
       "    }\n",
       "</style>\n",
       "<table border=\"1\" class=\"dataframe\">\n",
       "  <thead>\n",
       "    <tr style=\"text-align: right;\">\n",
       "      <th></th>\n",
       "      <th>Columna</th>\n",
       "      <th>Nulos</th>\n",
       "    </tr>\n",
       "  </thead>\n",
       "  <tbody>\n",
       "    <tr>\n",
       "      <th>0</th>\n",
       "      <td>match_id</td>\n",
       "      <td>0</td>\n",
       "    </tr>\n",
       "    <tr>\n",
       "      <th>1</th>\n",
       "      <td>champion</td>\n",
       "      <td>0</td>\n",
       "    </tr>\n",
       "    <tr>\n",
       "      <th>2</th>\n",
       "      <td>win</td>\n",
       "      <td>0</td>\n",
       "    </tr>\n",
       "    <tr>\n",
       "      <th>3</th>\n",
       "      <td>queue_id</td>\n",
       "      <td>0</td>\n",
       "    </tr>\n",
       "    <tr>\n",
       "      <th>4</th>\n",
       "      <td>game_duration</td>\n",
       "      <td>0</td>\n",
       "    </tr>\n",
       "    <tr>\n",
       "      <th>5</th>\n",
       "      <td>patch</td>\n",
       "      <td>0</td>\n",
       "    </tr>\n",
       "    <tr>\n",
       "      <th>6</th>\n",
       "      <td>kills</td>\n",
       "      <td>0</td>\n",
       "    </tr>\n",
       "    <tr>\n",
       "      <th>7</th>\n",
       "      <td>deaths</td>\n",
       "      <td>0</td>\n",
       "    </tr>\n",
       "    <tr>\n",
       "      <th>8</th>\n",
       "      <td>assists</td>\n",
       "      <td>0</td>\n",
       "    </tr>\n",
       "    <tr>\n",
       "      <th>9</th>\n",
       "      <td>kda</td>\n",
       "      <td>0</td>\n",
       "    </tr>\n",
       "    <tr>\n",
       "      <th>10</th>\n",
       "      <td>role</td>\n",
       "      <td>0</td>\n",
       "    </tr>\n",
       "    <tr>\n",
       "      <th>11</th>\n",
       "      <td>lane</td>\n",
       "      <td>0</td>\n",
       "    </tr>\n",
       "    <tr>\n",
       "      <th>12</th>\n",
       "      <td>gold_earned</td>\n",
       "      <td>0</td>\n",
       "    </tr>\n",
       "    <tr>\n",
       "      <th>13</th>\n",
       "      <td>gold_spent</td>\n",
       "      <td>0</td>\n",
       "    </tr>\n",
       "    <tr>\n",
       "      <th>14</th>\n",
       "      <td>total_minions</td>\n",
       "      <td>0</td>\n",
       "    </tr>\n",
       "    <tr>\n",
       "      <th>15</th>\n",
       "      <td>neutral_minions</td>\n",
       "      <td>0</td>\n",
       "    </tr>\n",
       "    <tr>\n",
       "      <th>16</th>\n",
       "      <td>total_damage</td>\n",
       "      <td>0</td>\n",
       "    </tr>\n",
       "    <tr>\n",
       "      <th>17</th>\n",
       "      <td>physical_damage</td>\n",
       "      <td>0</td>\n",
       "    </tr>\n",
       "    <tr>\n",
       "      <th>18</th>\n",
       "      <td>magic_damage</td>\n",
       "      <td>0</td>\n",
       "    </tr>\n",
       "    <tr>\n",
       "      <th>19</th>\n",
       "      <td>true_damage</td>\n",
       "      <td>0</td>\n",
       "    </tr>\n",
       "    <tr>\n",
       "      <th>20</th>\n",
       "      <td>damage_taken</td>\n",
       "      <td>0</td>\n",
       "    </tr>\n",
       "    <tr>\n",
       "      <th>21</th>\n",
       "      <td>damage_healed</td>\n",
       "      <td>0</td>\n",
       "    </tr>\n",
       "    <tr>\n",
       "      <th>22</th>\n",
       "      <td>vision_score</td>\n",
       "      <td>0</td>\n",
       "    </tr>\n",
       "    <tr>\n",
       "      <th>23</th>\n",
       "      <td>wards_placed</td>\n",
       "      <td>0</td>\n",
       "    </tr>\n",
       "    <tr>\n",
       "      <th>24</th>\n",
       "      <td>wards_killed</td>\n",
       "      <td>0</td>\n",
       "    </tr>\n",
       "    <tr>\n",
       "      <th>25</th>\n",
       "      <td>vision_wards</td>\n",
       "      <td>0</td>\n",
       "    </tr>\n",
       "    <tr>\n",
       "      <th>26</th>\n",
       "      <td>turret_kills</td>\n",
       "      <td>0</td>\n",
       "    </tr>\n",
       "    <tr>\n",
       "      <th>27</th>\n",
       "      <td>inhibitor_kills</td>\n",
       "      <td>0</td>\n",
       "    </tr>\n",
       "    <tr>\n",
       "      <th>28</th>\n",
       "      <td>dragon_kills</td>\n",
       "      <td>0</td>\n",
       "    </tr>\n",
       "    <tr>\n",
       "      <th>29</th>\n",
       "      <td>baron_kills</td>\n",
       "      <td>0</td>\n",
       "    </tr>\n",
       "    <tr>\n",
       "      <th>30</th>\n",
       "      <td>rift_herald_kills</td>\n",
       "      <td>0</td>\n",
       "    </tr>\n",
       "    <tr>\n",
       "      <th>31</th>\n",
       "      <td>item_0</td>\n",
       "      <td>0</td>\n",
       "    </tr>\n",
       "    <tr>\n",
       "      <th>32</th>\n",
       "      <td>item_1</td>\n",
       "      <td>0</td>\n",
       "    </tr>\n",
       "    <tr>\n",
       "      <th>33</th>\n",
       "      <td>item_2</td>\n",
       "      <td>0</td>\n",
       "    </tr>\n",
       "    <tr>\n",
       "      <th>34</th>\n",
       "      <td>item_3</td>\n",
       "      <td>0</td>\n",
       "    </tr>\n",
       "    <tr>\n",
       "      <th>35</th>\n",
       "      <td>item_4</td>\n",
       "      <td>0</td>\n",
       "    </tr>\n",
       "    <tr>\n",
       "      <th>36</th>\n",
       "      <td>item_5</td>\n",
       "      <td>0</td>\n",
       "    </tr>\n",
       "    <tr>\n",
       "      <th>37</th>\n",
       "      <td>item_6</td>\n",
       "      <td>0</td>\n",
       "    </tr>\n",
       "    <tr>\n",
       "      <th>38</th>\n",
       "      <td>primary_rune_tree</td>\n",
       "      <td>0</td>\n",
       "    </tr>\n",
       "    <tr>\n",
       "      <th>39</th>\n",
       "      <td>secondary_rune_tree</td>\n",
       "      <td>0</td>\n",
       "    </tr>\n",
       "    <tr>\n",
       "      <th>40</th>\n",
       "      <td>rune_0_0</td>\n",
       "      <td>0</td>\n",
       "    </tr>\n",
       "    <tr>\n",
       "      <th>41</th>\n",
       "      <td>rune_0_1</td>\n",
       "      <td>0</td>\n",
       "    </tr>\n",
       "    <tr>\n",
       "      <th>42</th>\n",
       "      <td>rune_0_2</td>\n",
       "      <td>0</td>\n",
       "    </tr>\n",
       "    <tr>\n",
       "      <th>43</th>\n",
       "      <td>rune_0_3</td>\n",
       "      <td>0</td>\n",
       "    </tr>\n",
       "    <tr>\n",
       "      <th>44</th>\n",
       "      <td>rune_1_0</td>\n",
       "      <td>0</td>\n",
       "    </tr>\n",
       "    <tr>\n",
       "      <th>45</th>\n",
       "      <td>rune_1_1</td>\n",
       "      <td>0</td>\n",
       "    </tr>\n",
       "  </tbody>\n",
       "</table>\n",
       "</div>"
      ],
      "text/plain": [
       "                Columna  Nulos\n",
       "0              match_id      0\n",
       "1              champion      0\n",
       "2                   win      0\n",
       "3              queue_id      0\n",
       "4         game_duration      0\n",
       "5                 patch      0\n",
       "6                 kills      0\n",
       "7                deaths      0\n",
       "8               assists      0\n",
       "9                   kda      0\n",
       "10                 role      0\n",
       "11                 lane      0\n",
       "12          gold_earned      0\n",
       "13           gold_spent      0\n",
       "14        total_minions      0\n",
       "15      neutral_minions      0\n",
       "16         total_damage      0\n",
       "17      physical_damage      0\n",
       "18         magic_damage      0\n",
       "19          true_damage      0\n",
       "20         damage_taken      0\n",
       "21        damage_healed      0\n",
       "22         vision_score      0\n",
       "23         wards_placed      0\n",
       "24         wards_killed      0\n",
       "25         vision_wards      0\n",
       "26         turret_kills      0\n",
       "27      inhibitor_kills      0\n",
       "28         dragon_kills      0\n",
       "29          baron_kills      0\n",
       "30    rift_herald_kills      0\n",
       "31               item_0      0\n",
       "32               item_1      0\n",
       "33               item_2      0\n",
       "34               item_3      0\n",
       "35               item_4      0\n",
       "36               item_5      0\n",
       "37               item_6      0\n",
       "38    primary_rune_tree      0\n",
       "39  secondary_rune_tree      0\n",
       "40             rune_0_0      0\n",
       "41             rune_0_1      0\n",
       "42             rune_0_2      0\n",
       "43             rune_0_3      0\n",
       "44             rune_1_0      0\n",
       "45             rune_1_1      0"
      ]
     },
     "execution_count": 4,
     "metadata": {},
     "output_type": "execute_result"
    }
   ],
   "source": [
    "null = df_base.isna().sum().values\n",
    "col = df_base.columns\n",
    "df_nulos = pd.DataFrame({\n",
    "    'Columna': col,\n",
    "    'Nulos': null})\n",
    "df_nulos"
   ]
  },
  {
   "cell_type": "markdown",
   "id": "5be7564f-9deb-4155-a61d-54f7f263deeb",
   "metadata": {},
   "source": [
    "**Observaciones** \n",
    "- No existen valores nulos en ninguna columna del dataframe\n",
    "- No es necesario tratamiento de valores nulos o perdidos"
   ]
  },
  {
   "cell_type": "code",
   "execution_count": 5,
   "id": "ed670f96-1565-4b58-8881-96a61939105f",
   "metadata": {},
   "outputs": [
    {
     "name": "stdout",
     "output_type": "stream",
     "text": [
      "Existen 5 juegos terminados antes del minuto 3 de juego.\n",
      "Se quitaron 5 registros. Quedan 313 partidas a analizar.\n",
      "--------------------\n",
      "Se crearon 161 nuevas columnas y se eliminan las columnas de casillas.\n",
      "--------------------\n"
     ]
    }
   ],
   "source": [
    "# Quitamos los registros de partidas con duración menor a 5 minutos debido a un potencial remake e información inutil para el análisis\n",
    "rmk = len(df_base[df_base['game_duration'] < 3])\n",
    "print(f'Existen {rmk} juegos terminados antes del minuto 3 de juego.')\n",
    "df_base = df_base[df_base['game_duration'] > 3]\n",
    "print(f'Se quitaron {rmk} registros. Quedan {len(df_base)} partidas a analizar.')\n",
    "print(f\"-\"*20)\n",
    "\n",
    "'''\n",
    "Hacemos un OHE de cada item para evitar el ruido que genera el item = 0. Esto representa que no se compró ningun item por lo que no aporta ninguna \n",
    "información relevante, solo me interesa que items si se compraron, sin importar en qué casilla haya estado. Interesa analizar el tipo de item que\n",
    "la posición de este durante el juego.\n",
    "'''\n",
    "\n",
    "# Columnas de ranura\n",
    "slot_cols = ['item_0','item_1','item_2','item_3','item_4','item_5','item_6']\n",
    "\n",
    "# Crear una sola lista de todos los ítems en todas las ranuras, ignorando ceros\n",
    "all_items = pd.unique(df_base[slot_cols].values.ravel())\n",
    "all_items = [i for i in all_items if i != 0]  # quitar el 0\n",
    "\n",
    "# Inicializar las columnas de presencia en 0\n",
    "for item in all_items:\n",
    "    df_base[f'item_{item}'] = 0\n",
    "\n",
    "# Marcar presencia de cada item\n",
    "for idx, row in df_base.iterrows():\n",
    "    for item in row[slot_cols]:\n",
    "        if item != 0:\n",
    "            df_base.at[idx, f'item_{item}'] <= 3\n",
    "\n",
    "df_base = df_base.drop(columns=slot_cols)\n",
    "            \n",
    "print(f\"Se crearon {len(all_items)} nuevas columnas y se eliminan las columnas de casillas.\")\n",
    "print(f\"-\"*20)\n",
    "\n",
    "'''\n",
    "Reducimos la cantidad de campeones según la cantidad de veces que lo usamos. \n",
    "Cambiamos algunos campeones a 'otros' para reducir dimensionalidad luego del OHE \n",
    "'''\n",
    "\n",
    "# Aplicamos el cambio de etiquetas\n",
    "champ_counts = df_base['champion'].value_counts()\n",
    "df_base['champ'] = df_base['champion'].apply(lambda x: x if champ_counts[x] >= 2 else 'Otro')\n",
    "df_base = df_base.drop(columns=['champion'])\n",
    "\n",
    "# Creamos una columna que calcule el total de monstruos y minions asesinados por minuto\n",
    "df_base['CS_per_min'] = (df_base['total_minions']+ df_base['neutral_minions']) / df_base['game_duration']\n",
    "\n",
    "# Creamos una columna que calcule la cantidad de wards colocados por minuto en base a los wards colocados y la duración del juego\n",
    "df_base['wards_per_min'] = df_base['wards_placed'] / df_base['game_duration']\n",
    "\n",
    "# Creamos una columnas que nos indique el total de items comprados en la partida.\n",
    "item_cols = [col for col in df_base.columns if col.startswith('item_')]\n",
    "df_base['total_items'] = df_base[item_cols].sum(axis=1)\n",
    "\n",
    "# Eliminamos el Id del partidos y el tipo de partida dado que no es relevante para el análisis\n",
    "df_base = df_base.drop(columns = ['match_id','queue_id','patch','rift_herald_kills','lane'])\n",
    "\n",
    "df_pivot = df_base.copy() # Usamos una copia diferente para las tablas dinámicas\n",
    "\n",
    "# Generamos columnas dummies de rol y champ para poder usar dicha información dentro de los modelos.\n",
    "df_base = pd.get_dummies(df_base, columns=['champ','role'], drop_first=True, dtype=int)\n",
    "\n",
    "# Dejamos la columna victoria al final y quitamos la columna lane\n",
    "df_base['victoria'] = df_base['win']\n",
    "df_base = df_base.drop(columns=['win'])"
   ]
  },
  {
   "cell_type": "markdown",
   "id": "bf147cda-b3fb-4c28-ae03-aab8c44ebcd8",
   "metadata": {},
   "source": [
    "**Observaciones** \n",
    "- Cambio de etiquetas de los campeones para reducir dimensionalidad\n",
    "- Se crea una columna para saber el total de items comprados\n",
    "- Se crea una columna con el total de cs por min\n",
    "- Se crea una columna con el total de wards colocados por min\n",
    "- Se hace OHE de los campeones y roles\n",
    "- Se eliminan los registros que corresponden a REMAKES (partidas que no se llevan a cabo porque un jugador no entró a la partida)"
   ]
  },
  {
   "cell_type": "markdown",
   "id": "2570a789-36da-42a8-959c-7b2b9f05e25d",
   "metadata": {},
   "source": [
    "# Análisis Exploratorio"
   ]
  },
  {
   "cell_type": "code",
   "execution_count": 6,
   "id": "b713c355-17ec-4672-ba93-511c903b9294",
   "metadata": {
    "panel-layout": {
     "height": 119,
     "visible": true,
     "width": 100
    }
   },
   "outputs": [
    {
     "data": {
      "text/plain": [
       "victoria\n",
       "0    159\n",
       "1    154\n",
       "Name: count, dtype: int64"
      ]
     },
     "execution_count": 6,
     "metadata": {},
     "output_type": "execute_result"
    }
   ],
   "source": [
    "df_base['victoria'].value_counts()"
   ]
  },
  {
   "cell_type": "markdown",
   "id": "2d2d7194-fead-4f68-951d-4b56d42f290a",
   "metadata": {},
   "source": [
    "**Observaciones** \n",
    "- No existe desbalanceo significativo de clases, no es necesario balancearlas."
   ]
  },
  {
   "cell_type": "markdown",
   "id": "60ed3355-2f94-4bc3-b93e-b654fc41376b",
   "metadata": {},
   "source": [
    "## Análisis rendimiento del jugador "
   ]
  },
  {
   "cell_type": "markdown",
   "id": "12c6b074-1fda-4829-896a-3ae0b2a11566",
   "metadata": {},
   "source": [
    "Basándonos en las estadísticas recopiladas por **ORACLES ELIXIR y LEAGUE OF GRAPHS**, podemos obtener difentes métricas de las partidas de todas las ligas de League of Legends. Es en relación a dichas métricas que podemos comparar el rendimiento promedio de los jugadores profesionales con el mio."
   ]
  },
  {
   "cell_type": "markdown",
   "id": "02dd1b56-f273-4223-95e4-a36c29767c11",
   "metadata": {},
   "source": [
    "## Análisis del jugador:  Games por rol"
   ]
  },
  {
   "cell_type": "code",
   "execution_count": 7,
   "id": "aacbcbbc-5afd-4f3d-bdcb-86ada946cdfe",
   "metadata": {},
   "outputs": [
    {
     "data": {
      "text/html": [
       "<div>\n",
       "<style scoped>\n",
       "    .dataframe tbody tr th:only-of-type {\n",
       "        vertical-align: middle;\n",
       "    }\n",
       "\n",
       "    .dataframe tbody tr th {\n",
       "        vertical-align: top;\n",
       "    }\n",
       "\n",
       "    .dataframe thead th {\n",
       "        text-align: right;\n",
       "    }\n",
       "</style>\n",
       "<table border=\"1\" class=\"dataframe\">\n",
       "  <thead>\n",
       "    <tr style=\"text-align: right;\">\n",
       "      <th></th>\n",
       "      <th>Games totales por rol</th>\n",
       "    </tr>\n",
       "    <tr>\n",
       "      <th>role</th>\n",
       "      <th></th>\n",
       "    </tr>\n",
       "  </thead>\n",
       "  <tbody>\n",
       "    <tr>\n",
       "      <th>BOTTOM</th>\n",
       "      <td>64</td>\n",
       "    </tr>\n",
       "    <tr>\n",
       "      <th>JUNGLE</th>\n",
       "      <td>114</td>\n",
       "    </tr>\n",
       "    <tr>\n",
       "      <th>MIDDLE</th>\n",
       "      <td>21</td>\n",
       "    </tr>\n",
       "    <tr>\n",
       "      <th>TOP</th>\n",
       "      <td>50</td>\n",
       "    </tr>\n",
       "    <tr>\n",
       "      <th>UTILITY</th>\n",
       "      <td>64</td>\n",
       "    </tr>\n",
       "    <tr>\n",
       "      <th>All</th>\n",
       "      <td>313</td>\n",
       "    </tr>\n",
       "  </tbody>\n",
       "</table>\n",
       "</div>"
      ],
      "text/plain": [
       "         Games totales por rol\n",
       "role                          \n",
       "BOTTOM                      64\n",
       "JUNGLE                     114\n",
       "MIDDLE                      21\n",
       "TOP                         50\n",
       "UTILITY                     64\n",
       "All                        313"
      ]
     },
     "execution_count": 7,
     "metadata": {},
     "output_type": "execute_result"
    }
   ],
   "source": [
    "games_per_rol = df_pivot.pivot_table(\n",
    "    values='wards_per_min',\n",
    "    index='role',\n",
    "    aggfunc='count',\n",
    "    margins= True\n",
    ")\n",
    "games_per_rol = games_per_rol.rename(columns={'wards_per_min': 'Games totales por rol'})\n",
    "\n",
    "games_per_rol"
   ]
  },
  {
   "cell_type": "markdown",
   "id": "15bb6c66-7c19-46ed-b885-4719ef806c6d",
   "metadata": {},
   "source": [
    "## Análisis del jugador:  Wards colocados por minuto"
   ]
  },
  {
   "cell_type": "code",
   "execution_count": 8,
   "id": "6b6c7e80-54dc-4660-8ab3-a32410a49ad5",
   "metadata": {},
   "outputs": [
    {
     "data": {
      "text/html": [
       "<div>\n",
       "<style scoped>\n",
       "    .dataframe tbody tr th:only-of-type {\n",
       "        vertical-align: middle;\n",
       "    }\n",
       "\n",
       "    .dataframe tbody tr th {\n",
       "        vertical-align: top;\n",
       "    }\n",
       "\n",
       "    .dataframe thead th {\n",
       "        text-align: right;\n",
       "    }\n",
       "</style>\n",
       "<table border=\"1\" class=\"dataframe\">\n",
       "  <thead>\n",
       "    <tr style=\"text-align: right;\">\n",
       "      <th></th>\n",
       "      <th>wards_placed</th>\n",
       "    </tr>\n",
       "    <tr>\n",
       "      <th>role</th>\n",
       "      <th></th>\n",
       "    </tr>\n",
       "  </thead>\n",
       "  <tbody>\n",
       "    <tr>\n",
       "      <th>BOTTOM</th>\n",
       "      <td>11.187500</td>\n",
       "    </tr>\n",
       "    <tr>\n",
       "      <th>JUNGLE</th>\n",
       "      <td>5.324561</td>\n",
       "    </tr>\n",
       "    <tr>\n",
       "      <th>MIDDLE</th>\n",
       "      <td>12.523810</td>\n",
       "    </tr>\n",
       "    <tr>\n",
       "      <th>TOP</th>\n",
       "      <td>11.140000</td>\n",
       "    </tr>\n",
       "    <tr>\n",
       "      <th>UTILITY</th>\n",
       "      <td>31.406250</td>\n",
       "    </tr>\n",
       "  </tbody>\n",
       "</table>\n",
       "</div>"
      ],
      "text/plain": [
       "         wards_placed\n",
       "role                 \n",
       "BOTTOM      11.187500\n",
       "JUNGLE       5.324561\n",
       "MIDDLE      12.523810\n",
       "TOP         11.140000\n",
       "UTILITY     31.406250"
      ]
     },
     "execution_count": 8,
     "metadata": {},
     "output_type": "execute_result"
    }
   ],
   "source": [
    "tabla_wards = df_pivot.pivot_table(\n",
    "    values='wards_placed',\n",
    "    index='role',\n",
    "    aggfunc='mean'\n",
    ")\n",
    "\n",
    "tabla_wards"
   ]
  },
  {
   "cell_type": "code",
   "execution_count": 9,
   "id": "b373a8d8-90dd-476e-8140-c5718ef54887",
   "metadata": {},
   "outputs": [
    {
     "data": {
      "image/png": "[encoded data removed]",
      "text/plain": [
       "<Figure size 800x500 with 1 Axes>"
      ]
     },
     "metadata": {},
     "output_type": "display_data"
    }
   ],
   "source": [
    "plt.figure(figsize=(8, 5))\n",
    "sns.barplot(data=tabla_wards, x='role', y='wards_placed', palette='viridis')\n",
    "\n",
    "# Personalizar\n",
    "plt.title('Promedio de wards colocados por rol')\n",
    "plt.xlabel('Rol')\n",
    "plt.ylabel('Wards colocados (promedio)')\n",
    "plt.xticks(rotation=45)\n",
    "plt.grid(axis='y', linestyle='--', alpha=0.3)\n",
    "\n",
    "plt.tight_layout()\n",
    "plt.show()"
   ]
  },
  {
   "cell_type": "code",
   "execution_count": 10,
   "id": "1cc8cf8a-8d5c-4d4d-a48d-611e6b0f116e",
   "metadata": {},
   "outputs": [
    {
     "data": {
      "text/html": [
       "<div>\n",
       "<style scoped>\n",
       "    .dataframe tbody tr th:only-of-type {\n",
       "        vertical-align: middle;\n",
       "    }\n",
       "\n",
       "    .dataframe tbody tr th {\n",
       "        vertical-align: top;\n",
       "    }\n",
       "\n",
       "    .dataframe thead th {\n",
       "        text-align: right;\n",
       "    }\n",
       "</style>\n",
       "<table border=\"1\" class=\"dataframe\">\n",
       "  <thead>\n",
       "    <tr style=\"text-align: right;\">\n",
       "      <th></th>\n",
       "      <th>WPM según el Rol</th>\n",
       "    </tr>\n",
       "    <tr>\n",
       "      <th>role</th>\n",
       "      <th></th>\n",
       "    </tr>\n",
       "  </thead>\n",
       "  <tbody>\n",
       "    <tr>\n",
       "      <th>BOTTOM</th>\n",
       "      <td>0.359136</td>\n",
       "    </tr>\n",
       "    <tr>\n",
       "      <th>JUNGLE</th>\n",
       "      <td>0.179044</td>\n",
       "    </tr>\n",
       "    <tr>\n",
       "      <th>MIDDLE</th>\n",
       "      <td>0.451663</td>\n",
       "    </tr>\n",
       "    <tr>\n",
       "      <th>TOP</th>\n",
       "      <td>0.372920</td>\n",
       "    </tr>\n",
       "    <tr>\n",
       "      <th>UTILITY</th>\n",
       "      <td>1.020591</td>\n",
       "    </tr>\n",
       "  </tbody>\n",
       "</table>\n",
       "</div>"
      ],
      "text/plain": [
       "         WPM según el Rol\n",
       "role                     \n",
       "BOTTOM           0.359136\n",
       "JUNGLE           0.179044\n",
       "MIDDLE           0.451663\n",
       "TOP              0.372920\n",
       "UTILITY          1.020591"
      ]
     },
     "execution_count": 10,
     "metadata": {},
     "output_type": "execute_result"
    }
   ],
   "source": [
    "tabla_wards_per_min = df_pivot.pivot_table(\n",
    "    values='wards_per_min',\n",
    "    index='role',\n",
    "    aggfunc='mean'\n",
    ")\n",
    "\n",
    "tabla_wards_per_min = tabla_wards_per_min.rename(columns={'wards_per_min': 'WPM según el Rol'})\n",
    "tabla_wards_per_min"
   ]
  },
  {
   "cell_type": "markdown",
   "id": "23fbdc6f-de20-4fce-a238-63eb4f82d959",
   "metadata": {},
   "source": [
    "**Observaciones** \n",
    "- Al obtener la cantidad de wards por minuto logramos visualizar el promedio de wards colocados en cada rol jugado. Al compararlo según la data de Oracles Elixir podemos detectar la diferencia en la colocación de centinelas de visión entre los jugadores profesionales y el jugador analizado.\n",
    "\n",
    "Promedio de centinelas de visión por minutos de jugadores profesionales según el rol:\n",
    "| Rol     | Bueno (WPM) | Excelente (WPM) |\n",
    "| ------- | ----------- | --------------- |\n",
    "| Bottom  | >0.4        | >0.5            |\n",
    "| Jungle  | >0.45       | >0.7            |\n",
    "| Middle  | >0.4        | >0.6            |\n",
    "| Top     | >0.4        | >0.5            |\n",
    "| Utility | >2.0        | >2.5            |\n",
    "\n",
    "Al ver la cantidad de partidas por cada rol, el rol más jugado es jungla, por lo que es el más idóneo para comparar, dando un rendimiento en tando a wards por minuto muy por bajo de la media, solo de 0.2 versus el 0,45 en promedio a nivel profesional, lo que implica una necesaria mejora en esta materia.\n",
    "\n",
    "Sin embargo, los promedios a nivel no profesional son los siguientes (source: League of graphs):\n",
    "\n",
    "| Rol     | WPM  |\n",
    "| ------- | ---- |\n",
    "| Bottom     | 0.29 |\n",
    "| Jungle  | 0.20 |\n",
    "| Mid     | 0.31 |\n",
    "| Top     | 0.29 |\n",
    "| UTILITY | 0.92 |\n",
    "\n",
    "Por lo tanto, a nivel no profesional, los niveles actuales del jugador analizado, están acorde al nivel global de WPM.\n",
    "En resumen, para un nivel profesional, se debe mejorar aún los wards por minuto pero a nivel no profesional, está dentro de los rangos esperados."
   ]
  },
  {
   "cell_type": "markdown",
   "id": "b97c18b2-ac6b-433b-8126-c9288a3a74f9",
   "metadata": {},
   "source": [
    "## Análisis del jugador: KDA "
   ]
  },
  {
   "cell_type": "code",
   "execution_count": 11,
   "id": "cb056898-5d49-49f7-a065-520fb2ac02f7",
   "metadata": {},
   "outputs": [
    {
     "data": {
      "text/html": [
       "<div>\n",
       "<style scoped>\n",
       "    .dataframe tbody tr th:only-of-type {\n",
       "        vertical-align: middle;\n",
       "    }\n",
       "\n",
       "    .dataframe tbody tr th {\n",
       "        vertical-align: top;\n",
       "    }\n",
       "\n",
       "    .dataframe thead th {\n",
       "        text-align: right;\n",
       "    }\n",
       "</style>\n",
       "<table border=\"1\" class=\"dataframe\">\n",
       "  <thead>\n",
       "    <tr style=\"text-align: right;\">\n",
       "      <th></th>\n",
       "      <th>KDA del jugador</th>\n",
       "      <th>KDA profesional</th>\n",
       "      <th>KDA promedio</th>\n",
       "    </tr>\n",
       "    <tr>\n",
       "      <th>role</th>\n",
       "      <th></th>\n",
       "      <th></th>\n",
       "      <th></th>\n",
       "    </tr>\n",
       "  </thead>\n",
       "  <tbody>\n",
       "    <tr>\n",
       "      <th>BOTTOM</th>\n",
       "      <td>6.233478e+15</td>\n",
       "      <td>4.58</td>\n",
       "      <td>2.00</td>\n",
       "    </tr>\n",
       "    <tr>\n",
       "      <th>JUNGLE</th>\n",
       "      <td>3.682052e+15</td>\n",
       "      <td>3.56</td>\n",
       "      <td>3.00</td>\n",
       "    </tr>\n",
       "    <tr>\n",
       "      <th>MIDDLE</th>\n",
       "      <td>4.391534e+15</td>\n",
       "      <td>4.02</td>\n",
       "      <td>1.75</td>\n",
       "    </tr>\n",
       "    <tr>\n",
       "      <th>TOP</th>\n",
       "      <td>3.210000e+15</td>\n",
       "      <td>2.85</td>\n",
       "      <td>1.25</td>\n",
       "    </tr>\n",
       "    <tr>\n",
       "      <th>UTILITY</th>\n",
       "      <td>7.489583e+15</td>\n",
       "      <td>2.91</td>\n",
       "      <td>2.25</td>\n",
       "    </tr>\n",
       "  </tbody>\n",
       "</table>\n",
       "</div>"
      ],
      "text/plain": [
       "         KDA del jugador  KDA profesional  KDA promedio\n",
       "role                                                   \n",
       "BOTTOM      6.233478e+15             4.58          2.00\n",
       "JUNGLE      3.682052e+15             3.56          3.00\n",
       "MIDDLE      4.391534e+15             4.02          1.75\n",
       "TOP         3.210000e+15             2.85          1.25\n",
       "UTILITY     7.489583e+15             2.91          2.25"
      ]
     },
     "execution_count": 11,
     "metadata": {},
     "output_type": "execute_result"
    }
   ],
   "source": [
    "tabla_kda = df_pivot.pivot_table(\n",
    "    values='kda',\n",
    "    index='role',\n",
    "    aggfunc='mean'\n",
    ")\n",
    "\n",
    "kda_prof = {\n",
    "    'BOTTOM': 4.58,\n",
    "    'JUNGLE': 3.56,\n",
    "    'MIDDLE': 4.02,\n",
    "    'TOP': 2.85,\n",
    "    'UTILITY': 2.91}\n",
    "\n",
    "# Correcta asignación\n",
    "tabla_kda['KDA profesional'] = tabla_kda.index.map(kda_prof)\n",
    "\n",
    "kda_x = {\n",
    "    'BOTTOM': 2,\n",
    "    'JUNGLE': 3,\n",
    "    'MIDDLE': 1.75,\n",
    "    'TOP': 1.25,\n",
    "    'UTILITY': 2.25}\n",
    "\n",
    "# Correcta asignación\n",
    "tabla_kda['KDA promedio'] = tabla_kda.index.map(kda_x)\n",
    "\n",
    "tabla_kda = tabla_kda.rename(columns = {'kda':'KDA del jugador'})\n",
    "tabla_kda"
   ]
  },
  {
   "cell_type": "markdown",
   "id": "22c2c0f0-b9f3-4561-9545-800b561533a5",
   "metadata": {},
   "source": [
    "**Observaciones** \n",
    "\n",
    "- Dado que el número de partidas en el rol de jungla es más alto, el análisis con mayor representatividad es el de jungla. Por ende, podemos decir con mejor precisión que el KDA (relación entre asesinatos, asistencias y muertes) es bastante bueno en comparación a los KDA de profesionales y superior al promedio de los jugadores."
   ]
  },
  {
   "cell_type": "markdown",
   "id": "3321617c-fd50-4c6a-a471-3ff214ad78bd",
   "metadata": {},
   "source": [
    "## Análisis del jugador: Minions asesinados "
   ]
  },
  {
   "cell_type": "code",
   "execution_count": 12,
   "id": "f2419ace-18e0-43fe-bd88-0ddd26c88d2d",
   "metadata": {},
   "outputs": [
    {
     "data": {
      "text/html": [
       "<div>\n",
       "<style scoped>\n",
       "    .dataframe tbody tr th:only-of-type {\n",
       "        vertical-align: middle;\n",
       "    }\n",
       "\n",
       "    .dataframe tbody tr th {\n",
       "        vertical-align: top;\n",
       "    }\n",
       "\n",
       "    .dataframe thead th {\n",
       "        text-align: right;\n",
       "    }\n",
       "</style>\n",
       "<table border=\"1\" class=\"dataframe\">\n",
       "  <thead>\n",
       "    <tr style=\"text-align: right;\">\n",
       "      <th></th>\n",
       "      <th>CSPM del jugador</th>\n",
       "      <th>CSPM profesional</th>\n",
       "      <th>CSPM promedio</th>\n",
       "    </tr>\n",
       "    <tr>\n",
       "      <th>role</th>\n",
       "      <th></th>\n",
       "      <th></th>\n",
       "      <th></th>\n",
       "    </tr>\n",
       "  </thead>\n",
       "  <tbody>\n",
       "    <tr>\n",
       "      <th>BOTTOM</th>\n",
       "      <td>6.635431</td>\n",
       "      <td>9.71</td>\n",
       "      <td>7.3</td>\n",
       "    </tr>\n",
       "    <tr>\n",
       "      <th>JUNGLE</th>\n",
       "      <td>5.844492</td>\n",
       "      <td>5.97</td>\n",
       "      <td>6.1</td>\n",
       "    </tr>\n",
       "    <tr>\n",
       "      <th>MIDDLE</th>\n",
       "      <td>6.225679</td>\n",
       "      <td>8.71</td>\n",
       "      <td>6.8</td>\n",
       "    </tr>\n",
       "    <tr>\n",
       "      <th>TOP</th>\n",
       "      <td>6.679955</td>\n",
       "      <td>7.85</td>\n",
       "      <td>6.6</td>\n",
       "    </tr>\n",
       "    <tr>\n",
       "      <th>UTILITY</th>\n",
       "      <td>1.154852</td>\n",
       "      <td>1.11</td>\n",
       "      <td>1.8</td>\n",
       "    </tr>\n",
       "  </tbody>\n",
       "</table>\n",
       "</div>"
      ],
      "text/plain": [
       "         CSPM del jugador  CSPM profesional  CSPM promedio\n",
       "role                                                      \n",
       "BOTTOM           6.635431              9.71            7.3\n",
       "JUNGLE           5.844492              5.97            6.1\n",
       "MIDDLE           6.225679              8.71            6.8\n",
       "TOP              6.679955              7.85            6.6\n",
       "UTILITY          1.154852              1.11            1.8"
      ]
     },
     "execution_count": 12,
     "metadata": {},
     "output_type": "execute_result"
    }
   ],
   "source": [
    "tabla_CSPM = df_pivot.pivot_table(\n",
    "    values='CS_per_min',\n",
    "    index='role',\n",
    "    aggfunc='mean'\n",
    ")\n",
    "\n",
    "CSPM_prof = {\n",
    "    'BOTTOM': 9.71,\n",
    "    'JUNGLE': 5.97,\n",
    "    'MIDDLE': 8.71,\n",
    "    'TOP': 7.85,\n",
    "    'UTILITY': 1.11}\n",
    "\n",
    "# Correcta asignación\n",
    "tabla_CSPM['CSPM profesional'] = tabla_CSPM.index.map(CSPM_prof)\n",
    "\n",
    "CSPM_x = {\n",
    "    'BOTTOM': 7.3,\n",
    "    'JUNGLE': 6.1,\n",
    "    'MIDDLE': 6.8,\n",
    "    'TOP': 6.6,\n",
    "    'UTILITY': 1.8}\n",
    "\n",
    "# Correcta asignación\n",
    "tabla_CSPM['CSPM promedio'] = tabla_CSPM.index.map(CSPM_x)\n",
    "\n",
    "tabla_CSPM = tabla_CSPM.rename(columns = {'CS_per_min':'CSPM del jugador'})\n",
    "tabla_CSPM"
   ]
  },
  {
   "cell_type": "markdown",
   "id": "c389be75-08e7-401c-9120-cb6a4c054bf4",
   "metadata": {},
   "source": [
    "**Observaciones** \n",
    "\n",
    "- Al igual que en los casos de análisis anteriores, el rol de jungla será el principalmente analizado por la cantidad de representatividad que tiene. Teniendo esto en consideración podemos evidenciar que los mosntruos totales asesinados por minuto es similar al promedio profesional y al promedio general de los jugadores amateur. En este sentido, el farmeo, si bien puede mejorar, está en rangos óptimos o esperables. Sin embargo, en los otros roles el jugador no tiene un muy buen desempeño, por lo que se debe de practicar esta mecanica parallegar a niveles más óptimos, por lo menos similares al promedio de jugadores amateur de cada rol."
   ]
  },
  {
   "cell_type": "markdown",
   "id": "0f79b944-bf9b-4b54-a03f-ae87743e748f",
   "metadata": {},
   "source": [
    "# Correlaciones y Reducción de variables"
   ]
  },
  {
   "cell_type": "code",
   "execution_count": 13,
   "id": "a665c914-1d97-4d0b-9c1c-0f072d7d5fd7",
   "metadata": {},
   "outputs": [
    {
     "data": {
      "text/html": [
       "<div>\n",
       "<style scoped>\n",
       "    .dataframe tbody tr th:only-of-type {\n",
       "        vertical-align: middle;\n",
       "    }\n",
       "\n",
       "    .dataframe tbody tr th {\n",
       "        vertical-align: top;\n",
       "    }\n",
       "\n",
       "    .dataframe thead th {\n",
       "        text-align: right;\n",
       "    }\n",
       "</style>\n",
       "<table border=\"1\" class=\"dataframe\">\n",
       "  <thead>\n",
       "    <tr style=\"text-align: right;\">\n",
       "      <th></th>\n",
       "      <th>Variable 1</th>\n",
       "      <th>Variable 2</th>\n",
       "      <th>Correlación</th>\n",
       "    </tr>\n",
       "  </thead>\n",
       "  <tbody>\n",
       "    <tr>\n",
       "      <th>0</th>\n",
       "      <td>gold_earned</td>\n",
       "      <td>gold_spent</td>\n",
       "      <td>0.972581</td>\n",
       "    </tr>\n",
       "    <tr>\n",
       "      <th>1</th>\n",
       "      <td>wards_placed</td>\n",
       "      <td>wards_per_min</td>\n",
       "      <td>0.958728</td>\n",
       "    </tr>\n",
       "    <tr>\n",
       "      <th>2</th>\n",
       "      <td>neutral_minions</td>\n",
       "      <td>role_JUNGLE</td>\n",
       "      <td>0.949129</td>\n",
       "    </tr>\n",
       "    <tr>\n",
       "      <th>3</th>\n",
       "      <td>CS_per_min</td>\n",
       "      <td>role_UTILITY</td>\n",
       "      <td>-0.902629</td>\n",
       "    </tr>\n",
       "    <tr>\n",
       "      <th>4</th>\n",
       "      <td>vision_score</td>\n",
       "      <td>wards_placed</td>\n",
       "      <td>0.892937</td>\n",
       "    </tr>\n",
       "    <tr>\n",
       "      <th>5</th>\n",
       "      <td>wards_per_min</td>\n",
       "      <td>role_UTILITY</td>\n",
       "      <td>0.856484</td>\n",
       "    </tr>\n",
       "    <tr>\n",
       "      <th>6</th>\n",
       "      <td>gold_earned</td>\n",
       "      <td>total_damage</td>\n",
       "      <td>0.837172</td>\n",
       "    </tr>\n",
       "    <tr>\n",
       "      <th>7</th>\n",
       "      <td>gold_spent</td>\n",
       "      <td>total_damage</td>\n",
       "      <td>0.824769</td>\n",
       "    </tr>\n",
       "    <tr>\n",
       "      <th>8</th>\n",
       "      <td>vision_score</td>\n",
       "      <td>wards_per_min</td>\n",
       "      <td>0.817111</td>\n",
       "    </tr>\n",
       "    <tr>\n",
       "      <th>9</th>\n",
       "      <td>primary_rune_tree</td>\n",
       "      <td>rune_0_3</td>\n",
       "      <td>0.805019</td>\n",
       "    </tr>\n",
       "    <tr>\n",
       "      <th>10</th>\n",
       "      <td>damage_taken</td>\n",
       "      <td>damage_healed</td>\n",
       "      <td>0.794308</td>\n",
       "    </tr>\n",
       "    <tr>\n",
       "      <th>11</th>\n",
       "      <td>primary_rune_tree</td>\n",
       "      <td>rune_0_0</td>\n",
       "      <td>0.789069</td>\n",
       "    </tr>\n",
       "    <tr>\n",
       "      <th>12</th>\n",
       "      <td>neutral_minions</td>\n",
       "      <td>damage_healed</td>\n",
       "      <td>0.782374</td>\n",
       "    </tr>\n",
       "    <tr>\n",
       "      <th>13</th>\n",
       "      <td>wards_placed</td>\n",
       "      <td>role_UTILITY</td>\n",
       "      <td>0.778859</td>\n",
       "    </tr>\n",
       "    <tr>\n",
       "      <th>14</th>\n",
       "      <td>CS_per_min</td>\n",
       "      <td>wards_per_min</td>\n",
       "      <td>-0.759491</td>\n",
       "    </tr>\n",
       "    <tr>\n",
       "      <th>15</th>\n",
       "      <td>vision_score</td>\n",
       "      <td>role_UTILITY</td>\n",
       "      <td>0.750544</td>\n",
       "    </tr>\n",
       "    <tr>\n",
       "      <th>16</th>\n",
       "      <td>primary_rune_tree</td>\n",
       "      <td>rune_0_2</td>\n",
       "      <td>-0.741553</td>\n",
       "    </tr>\n",
       "    <tr>\n",
       "      <th>17</th>\n",
       "      <td>game_duration</td>\n",
       "      <td>gold_spent</td>\n",
       "      <td>0.739709</td>\n",
       "    </tr>\n",
       "    <tr>\n",
       "      <th>18</th>\n",
       "      <td>neutral_minions</td>\n",
       "      <td>dragon_kills</td>\n",
       "      <td>0.739129</td>\n",
       "    </tr>\n",
       "    <tr>\n",
       "      <th>19</th>\n",
       "      <td>total_damage</td>\n",
       "      <td>physical_damage</td>\n",
       "      <td>0.737744</td>\n",
       "    </tr>\n",
       "    <tr>\n",
       "      <th>20</th>\n",
       "      <td>kills</td>\n",
       "      <td>total_damage</td>\n",
       "      <td>0.729126</td>\n",
       "    </tr>\n",
       "    <tr>\n",
       "      <th>21</th>\n",
       "      <td>kills</td>\n",
       "      <td>gold_earned</td>\n",
       "      <td>0.726561</td>\n",
       "    </tr>\n",
       "    <tr>\n",
       "      <th>22</th>\n",
       "      <td>game_duration</td>\n",
       "      <td>gold_earned</td>\n",
       "      <td>0.718169</td>\n",
       "    </tr>\n",
       "    <tr>\n",
       "      <th>23</th>\n",
       "      <td>gold_earned</td>\n",
       "      <td>physical_damage</td>\n",
       "      <td>0.714318</td>\n",
       "    </tr>\n",
       "    <tr>\n",
       "      <th>24</th>\n",
       "      <td>gold_spent</td>\n",
       "      <td>physical_damage</td>\n",
       "      <td>0.708857</td>\n",
       "    </tr>\n",
       "    <tr>\n",
       "      <th>25</th>\n",
       "      <td>rune_1_0</td>\n",
       "      <td>rune_1_1</td>\n",
       "      <td>0.704267</td>\n",
       "    </tr>\n",
       "  </tbody>\n",
       "</table>\n",
       "</div>"
      ],
      "text/plain": [
       "           Variable 1       Variable 2  Correlación\n",
       "0         gold_earned       gold_spent     0.972581\n",
       "1        wards_placed    wards_per_min     0.958728\n",
       "2     neutral_minions      role_JUNGLE     0.949129\n",
       "3          CS_per_min     role_UTILITY    -0.902629\n",
       "4        vision_score     wards_placed     0.892937\n",
       "5       wards_per_min     role_UTILITY     0.856484\n",
       "6         gold_earned     total_damage     0.837172\n",
       "7          gold_spent     total_damage     0.824769\n",
       "8        vision_score    wards_per_min     0.817111\n",
       "9   primary_rune_tree         rune_0_3     0.805019\n",
       "10       damage_taken    damage_healed     0.794308\n",
       "11  primary_rune_tree         rune_0_0     0.789069\n",
       "12    neutral_minions    damage_healed     0.782374\n",
       "13       wards_placed     role_UTILITY     0.778859\n",
       "14         CS_per_min    wards_per_min    -0.759491\n",
       "15       vision_score     role_UTILITY     0.750544\n",
       "16  primary_rune_tree         rune_0_2    -0.741553\n",
       "17      game_duration       gold_spent     0.739709\n",
       "18    neutral_minions     dragon_kills     0.739129\n",
       "19       total_damage  physical_damage     0.737744\n",
       "20              kills     total_damage     0.729126\n",
       "21              kills      gold_earned     0.726561\n",
       "22      game_duration      gold_earned     0.718169\n",
       "23        gold_earned  physical_damage     0.714318\n",
       "24         gold_spent  physical_damage     0.708857\n",
       "25           rune_1_0         rune_1_1     0.704267"
      ]
     },
     "execution_count": 13,
     "metadata": {},
     "output_type": "execute_result"
    }
   ],
   "source": [
    "#Vemos la correlaciones más altas\n",
    "obtener_pares_correlacionados(df_base)"
   ]
  },
  {
   "cell_type": "code",
   "execution_count": 14,
   "id": "c7c2501c-6312-4c04-a960-a65800e28c60",
   "metadata": {},
   "outputs": [],
   "source": [
    "# Eliminamos las columnas que corresponden a items que solo aparecen 1 vez.\n",
    "item_cols = [col for col in df_base.columns if col.startswith('item_')]\n",
    "item_counts = df_base[item_cols].sum()\n",
    "cols_to_drop = item_counts[item_counts == 1].index\n",
    "df_base = df_base.drop(columns=cols_to_drop)"
   ]
  },
  {
   "cell_type": "code",
   "execution_count": 15,
   "id": "6bb7665a-f471-40b1-af8f-8d4953d1adab",
   "metadata": {},
   "outputs": [],
   "source": [
    "df_reducido = df_base.drop(columns = ['total_minions',\n",
    "                                    'primary_rune_tree',\n",
    "                                    'secondary_rune_tree',\n",
    "                                    'gold_spent',\n",
    "                                    'wards_placed',\n",
    "                                    'vision_wards',\n",
    "                                    'neutral_minions',\n",
    "                                    'physical_damage',\n",
    "                                    'true_damage',\n",
    "                                    'magic_damage',\n",
    "                                    'damage_healed',\n",
    "                                    'kills',\n",
    "                                    'deaths',\n",
    "                                    'assists'\n",
    "                                   ])"
   ]
  },
  {
   "cell_type": "markdown",
   "id": "c223d4ae-08ab-4dc5-b367-63af816b8fdb",
   "metadata": {},
   "source": [
    "**Observaciones** \n",
    "\n",
    "Quitamos las variables con demasiada correlación entre si y que puedan causar multicolinealidad dado que pueden afectar demasiado en el modelo."
   ]
  },
  {
   "cell_type": "code",
   "execution_count": 16,
   "id": "9028e286-569b-4aae-a9b0-36abf5ebc75b",
   "metadata": {},
   "outputs": [
    {
     "data": {
      "text/html": [
       "<div>\n",
       "<style scoped>\n",
       "    .dataframe tbody tr th:only-of-type {\n",
       "        vertical-align: middle;\n",
       "    }\n",
       "\n",
       "    .dataframe tbody tr th {\n",
       "        vertical-align: top;\n",
       "    }\n",
       "\n",
       "    .dataframe thead th {\n",
       "        text-align: right;\n",
       "    }\n",
       "</style>\n",
       "<table border=\"1\" class=\"dataframe\">\n",
       "  <thead>\n",
       "    <tr style=\"text-align: right;\">\n",
       "      <th></th>\n",
       "      <th>Variable 1</th>\n",
       "      <th>Variable 2</th>\n",
       "      <th>Correlación</th>\n",
       "    </tr>\n",
       "  </thead>\n",
       "  <tbody>\n",
       "    <tr>\n",
       "      <th>0</th>\n",
       "      <td>CS_per_min</td>\n",
       "      <td>role_UTILITY</td>\n",
       "      <td>-0.902629</td>\n",
       "    </tr>\n",
       "    <tr>\n",
       "      <th>1</th>\n",
       "      <td>wards_per_min</td>\n",
       "      <td>role_UTILITY</td>\n",
       "      <td>0.856484</td>\n",
       "    </tr>\n",
       "    <tr>\n",
       "      <th>2</th>\n",
       "      <td>gold_earned</td>\n",
       "      <td>total_damage</td>\n",
       "      <td>0.837172</td>\n",
       "    </tr>\n",
       "    <tr>\n",
       "      <th>3</th>\n",
       "      <td>vision_score</td>\n",
       "      <td>wards_per_min</td>\n",
       "      <td>0.817111</td>\n",
       "    </tr>\n",
       "    <tr>\n",
       "      <th>4</th>\n",
       "      <td>CS_per_min</td>\n",
       "      <td>wards_per_min</td>\n",
       "      <td>-0.759491</td>\n",
       "    </tr>\n",
       "    <tr>\n",
       "      <th>5</th>\n",
       "      <td>vision_score</td>\n",
       "      <td>role_UTILITY</td>\n",
       "      <td>0.750544</td>\n",
       "    </tr>\n",
       "    <tr>\n",
       "      <th>6</th>\n",
       "      <td>game_duration</td>\n",
       "      <td>gold_earned</td>\n",
       "      <td>0.718169</td>\n",
       "    </tr>\n",
       "    <tr>\n",
       "      <th>7</th>\n",
       "      <td>rune_1_0</td>\n",
       "      <td>rune_1_1</td>\n",
       "      <td>0.704267</td>\n",
       "    </tr>\n",
       "  </tbody>\n",
       "</table>\n",
       "</div>"
      ],
      "text/plain": [
       "      Variable 1     Variable 2  Correlación\n",
       "0     CS_per_min   role_UTILITY    -0.902629\n",
       "1  wards_per_min   role_UTILITY     0.856484\n",
       "2    gold_earned   total_damage     0.837172\n",
       "3   vision_score  wards_per_min     0.817111\n",
       "4     CS_per_min  wards_per_min    -0.759491\n",
       "5   vision_score   role_UTILITY     0.750544\n",
       "6  game_duration    gold_earned     0.718169\n",
       "7       rune_1_0       rune_1_1     0.704267"
      ]
     },
     "execution_count": 16,
     "metadata": {},
     "output_type": "execute_result"
    }
   ],
   "source": [
    "# Obseervamos las mayores correlaciones nuevamente\n",
    "obtener_pares_correlacionados(df_reducido)"
   ]
  },
  {
   "cell_type": "code",
   "execution_count": 17,
   "id": "d4ca5d08-cf51-4b87-b168-28acebe92f03",
   "metadata": {},
   "outputs": [
    {
     "name": "stdout",
     "output_type": "stream",
     "text": [
      "<class 'pandas.core.frame.DataFrame'>\n",
      "Index: 313 entries, 0 to 318\n",
      "Columns: 218 entries, game_duration to victoria\n",
      "dtypes: float64(3), int64(215)\n",
      "memory usage: 543.6 KB\n"
     ]
    }
   ],
   "source": [
    "df_reducido.info()"
   ]
  },
  {
   "cell_type": "markdown",
   "id": "3123637d-a05d-4ae9-944c-635482fff540",
   "metadata": {},
   "source": [
    "**Observaciones** \n",
    "\n",
    "Podemos ver correlaciones interesantes como: \n",
    "- La cantidad de assitencias aumenta según wards utilizados\n",
    "- La cantidad de monstruos asesinados aumenta según la visión.\n",
    "- El kda empeora a lo largo de la partida\n",
    "- Mejora levemente el asesinato de dragones según la visión."
   ]
  },
  {
   "cell_type": "markdown",
   "id": "f8206748-4f5e-4e6a-836a-45d7aaca9672",
   "metadata": {},
   "source": [
    "# Modelamiento"
   ]
  },
  {
   "cell_type": "markdown",
   "id": "d1148512-3d71-4c31-8e78-05739ee61081",
   "metadata": {},
   "source": [
    "## Spliteo de datos"
   ]
  },
  {
   "cell_type": "code",
   "execution_count": 18,
   "id": "afcafe77-2b24-4ea2-9b6b-9ff525613011",
   "metadata": {},
   "outputs": [],
   "source": [
    "X = df_reducido.drop(columns = ['victoria'])\n",
    "y = df_reducido['victoria']\n",
    "\n",
    "# Spliteamos\n",
    "X_train, X_test, y_train, y_test= train_test_split(X, y, test_size=0.30, random_state=42)"
   ]
  },
  {
   "cell_type": "code",
   "execution_count": 19,
   "id": "5de7cac6-0870-4dad-ac0f-4b95c4a2ace5",
   "metadata": {},
   "outputs": [
    {
     "name": "stdout",
     "output_type": "stream",
     "text": [
      "\n",
      "📋 Columnas del DataFrame:\n",
      "0: game_duration\n",
      "1: kda\n",
      "2: gold_earned\n",
      "3: total_damage\n",
      "4: damage_taken\n",
      "5: vision_score\n",
      "6: wards_killed\n",
      "7: turret_kills\n",
      "8: inhibitor_kills\n",
      "9: dragon_kills\n",
      "10: baron_kills\n",
      "11: CS_per_min\n",
      "12: wards_per_min\n",
      "13: total_items\n"
     ]
    },
    {
     "name": "stdin",
     "output_type": "stream",
     "text": [
      "\n",
      "Ingresa los índices de las columnas que NO quieres escalar, separados por comas:  \n"
     ]
    },
    {
     "name": "stdout",
     "output_type": "stream",
     "text": [
      "No se ingresaron columnas para exluciur, se excluyeron la columnas con anterioridad\n",
      "\n",
      "Columnas escaladas: ['game_duration', 'kda', 'gold_earned', 'total_damage', 'damage_taken', 'vision_score', 'wards_killed', 'turret_kills', 'inhibitor_kills', 'dragon_kills', 'baron_kills', 'CS_per_min', 'wards_per_min', 'total_items']\n"
     ]
    }
   ],
   "source": [
    "# Estandarizamos los datos para que todos tengan la misma medida\n",
    "\n",
    "# Lista de columnas a excluir: item_, role_, rune_, champ_\n",
    "exclude_cols = [col for col in df_reducido.columns \n",
    "                if col.startswith('item_') \n",
    "                or col.startswith('role_') \n",
    "                or col.startswith('rune_') \n",
    "                or col.startswith('champ_')] + ['victoria']\n",
    "\n",
    "X_train_scaled, X_test_scaled  = scaler(df_reducido,X_train, X_test, exclude_cols)"
   ]
  },
  {
   "cell_type": "markdown",
   "id": "244dd69d-d51f-4730-86bf-0d6a96a5220f",
   "metadata": {
    "jp-MarkdownHeadingCollapsed": true
   },
   "source": [
    "## Regresión logistica"
   ]
  },
  {
   "cell_type": "code",
   "execution_count": 20,
   "id": "85481a4d-ef53-4821-bdb1-dde40a242d9d",
   "metadata": {},
   "outputs": [],
   "source": [
    "model_log = LogisticRegression(random_state=42)\n",
    "model_log.fit(X_train_scaled, y_train)\n",
    "y_pred_log = model_log.predict(X_test_scaled)"
   ]
  },
  {
   "cell_type": "markdown",
   "id": "e146da58-9f64-4efa-b4fa-24fba8fbff8f",
   "metadata": {},
   "source": [
    "### Matríz de confusión de la regresión logística"
   ]
  },
  {
   "cell_type": "code",
   "execution_count": 21,
   "id": "a6225b39-fcef-4923-b908-60a3a7922d7e",
   "metadata": {},
   "outputs": [
    {
     "data": {
      "image/png": "[encoded data removed]",
      "text/plain": [
       "<Figure size 640x480 with 2 Axes>"
      ]
     },
     "metadata": {},
     "output_type": "display_data"
    },
    {
     "name": "stdout",
     "output_type": "stream",
     "text": [
      "\n",
      "Reporte de Clasificación:\n",
      "              precision    recall  f1-score   support\n",
      "\n",
      "           0       0.73      0.77      0.75        48\n",
      "           1       0.74      0.70      0.72        46\n",
      "\n",
      "    accuracy                           0.73        94\n",
      "   macro avg       0.73      0.73      0.73        94\n",
      "weighted avg       0.73      0.73      0.73        94\n",
      "\n"
     ]
    }
   ],
   "source": [
    "# Crear un heatmap de la matriz de confusión\n",
    "conf_matrix = confusion_matrix(y_test, y_pred_log)\n",
    "\n",
    "sns.heatmap(conf_matrix, annot=True, fmt='d', cmap='Blues', xticklabels=['Derrota', 'Victoria'], yticklabels=['Derrota', 'Victoria'])\n",
    "plt.xlabel('Predicciones')\n",
    "plt.ylabel('Valores Reales')\n",
    "plt.title('Matriz de Confusión')\n",
    "plt.show()\n",
    "\n",
    "print(\"\\nReporte de Clasificación:\")\n",
    "print(classification_report(y_test, y_pred_log))"
   ]
  },
  {
   "cell_type": "markdown",
   "id": "3b627b9b-aba1-4d05-bafc-f8d7aa5f463c",
   "metadata": {},
   "source": [
    "**Observaciones** \n",
    "- A pesar de existen varios falsos positivos y verdaderos negativos, en general tenemos un rendimiento del modelo \"aceptable\", dado que su ocuraccy es mayor al 50% lo que significa que es a lo menos un 10% mejor que el azar.\n",
    "- El modelo detecta un poco mejor las derrotas que las victorias en f1-score.\n",
    "- El rendimiento general del modelo es de un 63%"
   ]
  },
  {
   "cell_type": "markdown",
   "id": "124d1a30-0524-494f-8859-bfb9de2daf35",
   "metadata": {},
   "source": [
    "### Curva ROC-AUC de la regresión logística"
   ]
  },
  {
   "cell_type": "code",
   "execution_count": 22,
   "id": "7ec3a51b-d7b8-43b9-8661-90ff8ff4b329",
   "metadata": {},
   "outputs": [
    {
     "data": {
      "image/png": "[encoded data removed]",
      "text/plain": [
       "<Figure size 800x600 with 1 Axes>"
      ]
     },
     "metadata": {},
     "output_type": "display_data"
    }
   ],
   "source": [
    "y_pred_prob = model_log.predict_proba(X_test_scaled)[:, 1]\n",
    "\n",
    "# 2. Calcular curva ROC\n",
    "fpr, tpr, thresholds = roc_curve(y_test, y_pred_prob)\n",
    "\n",
    "# 3. Calcular AUC\n",
    "auc_score = roc_auc_score(y_test, y_pred_prob)\n",
    "\n",
    "# 4. Graficar\n",
    "plt.figure(figsize=(8,6))\n",
    "plt.plot(fpr, tpr, label=f'AUC = {auc_score:.2f}')\n",
    "plt.plot([0,1], [0,1], 'k--', label='Random')\n",
    "plt.xlabel('Tasa de falsos positivos (FPR)')\n",
    "plt.ylabel('Tasa de verdaderos positivos (TPR)')\n",
    "plt.title('Curva ROC - Regresión logística')\n",
    "plt.legend(loc='lower right')\n",
    "plt.grid(True)\n",
    "plt.show()\n"
   ]
  },
  {
   "cell_type": "markdown",
   "id": "9bf2b828-af77-4704-ac0c-4c9b17ed8fd3",
   "metadata": {},
   "source": [
    "**Observaciones** \n",
    "- El valor AUC aún es levemente mejo que el azar y el modelo no detecta muy bien entre TPR y FPR"
   ]
  },
  {
   "cell_type": "markdown",
   "id": "ec817da6-aab2-44dc-a88e-10d95cfda2ac",
   "metadata": {
    "jp-MarkdownHeadingCollapsed": true
   },
   "source": [
    "## Support Vector Machine con ajuste de hiperparámetros"
   ]
  },
  {
   "cell_type": "code",
   "execution_count": 23,
   "id": "633e55be-da11-4f62-bbe6-379479822121",
   "metadata": {
    "jp-MarkdownHeadingCollapsed": true
   },
   "outputs": [
    {
     "name": "stdout",
     "output_type": "stream",
     "text": [
      "Mejores parámetros: {'C': 10, 'gamma': 'scale', 'kernel': 'linear'}\n"
     ]
    }
   ],
   "source": [
    "# Definir el modelo base\n",
    "svm_model = SVC(random_state=42, max_iter=100000)\n",
    "\n",
    "# Rango de parámetros a probar\n",
    "param_grid_svm = {\n",
    "    'kernel': ['linear', 'rbf', 'sigmoid'],\n",
    "    'C': [0.01, 0.1, 1, 10],\n",
    "    'gamma': ['scale', 0.01, 0.1, 1]\n",
    "}\n",
    "\n",
    "# Configurar búsqueda\n",
    "grid_search_svm = GridSearchCV(svm_model, param_grid_svm, cv=5, scoring='accuracy', n_jobs=-1)\n",
    "\n",
    "# Entrenar\n",
    "grid_search_svm.fit(X_train_scaled, y_train)\n",
    "\n",
    "# Mejor modelo\n",
    "best_svm = grid_search_svm.best_estimator_\n",
    "print(\"Mejores parámetros:\", grid_search_svm.best_params_)"
   ]
  },
  {
   "cell_type": "markdown",
   "id": "31e31eba-ec94-4e48-b8f9-eac2c1578b86",
   "metadata": {
    "jp-MarkdownHeadingCollapsed": true
   },
   "source": [
    "### Matríz de confusión de SVM"
   ]
  },
  {
   "cell_type": "code",
   "execution_count": 24,
   "id": "f7bcb900-7aca-408c-b19a-892b5e2a1c2c",
   "metadata": {},
   "outputs": [
    {
     "data": {
      "image/png": "[encoded data removed]",
      "text/plain": [
       "<Figure size 640x480 with 2 Axes>"
      ]
     },
     "metadata": {},
     "output_type": "display_data"
    },
    {
     "name": "stdout",
     "output_type": "stream",
     "text": [
      "\n",
      "Reporte de Clasificación:\n",
      "              precision    recall  f1-score   support\n",
      "\n",
      "           0       0.69      0.73      0.71        48\n",
      "           1       0.70      0.65      0.67        46\n",
      "\n",
      "    accuracy                           0.69        94\n",
      "   macro avg       0.69      0.69      0.69        94\n",
      "weighted avg       0.69      0.69      0.69        94\n",
      "\n"
     ]
    }
   ],
   "source": [
    "y_pred_svm = best_svm.predict(X_test_scaled)\n",
    "\n",
    "# Crear un heatmap de la matriz de confusión\n",
    "conf_matrix = confusion_matrix(y_test, y_pred_svm)\n",
    "\n",
    "sns.heatmap(conf_matrix, annot=True, fmt='d', cmap='Blues', xticklabels=['Derrota', 'Victoria'], yticklabels=['Derrota', 'Victoria'])\n",
    "plt.xlabel('Predicciones')\n",
    "plt.ylabel('Valores Reales')\n",
    "plt.title('Matriz de Confusión')\n",
    "plt.show()\n",
    "\n",
    "print(\"\\nReporte de Clasificación:\")\n",
    "print(classification_report(y_test, y_pred_svm))"
   ]
  },
  {
   "cell_type": "markdown",
   "id": "ed67695f-5e2e-4f02-a1a4-5ad6e025672d",
   "metadata": {},
   "source": [
    "### Curva ROC-AUC de SVM"
   ]
  },
  {
   "cell_type": "code",
   "execution_count": 25,
   "id": "2d9ebb5d-70ce-4864-84c5-3babac83e1fe",
   "metadata": {},
   "outputs": [
    {
     "data": {
      "image/png": "[encoded data removed]",
      "text/plain": [
       "<Figure size 800x600 with 1 Axes>"
      ]
     },
     "metadata": {},
     "output_type": "display_data"
    }
   ],
   "source": [
    "# Obtén los scores con decision_function\n",
    "y_scores_svm = best_svm.decision_function(X_test_scaled)\n",
    "\n",
    "# Calcula ROC y AUC usando estos scores\n",
    "fpr, tpr, thresholds = roc_curve(y_test, y_scores_svm)\n",
    "auc = roc_auc_score(y_test, y_scores_svm)\n",
    "\n",
    "# 4. Graficar\n",
    "plt.figure(figsize=(8,6))\n",
    "plt.plot(fpr, tpr, label=f'AUC = {auc:.2f}')\n",
    "plt.plot([0,1], [0,1], 'k--', label='Random')\n",
    "plt.xlabel('Tasa de falsos positivos (FPR)')\n",
    "plt.ylabel('Tasa de verdaderos positivos (TPR)')\n",
    "plt.title('Curva ROC - SVM')\n",
    "plt.legend(loc='lower right')\n",
    "plt.grid(True)\n",
    "plt.show()\n"
   ]
  },
  {
   "cell_type": "markdown",
   "id": "673eb717-cadb-47fe-ad8d-5ab7faa2fb0a",
   "metadata": {
    "jp-MarkdownHeadingCollapsed": true
   },
   "source": [
    "## Decision Tree con ajuste de hiperparámetros"
   ]
  },
  {
   "cell_type": "code",
   "execution_count": 26,
   "id": "a9d4ed35-66a1-4fff-b1ed-57f9bf5d093a",
   "metadata": {},
   "outputs": [
    {
     "name": "stdout",
     "output_type": "stream",
     "text": [
      "Mejores parámetros: {'max_depth': 5, 'min_samples_leaf': 4, 'min_samples_split': 2}\n"
     ]
    }
   ],
   "source": [
    "# 3. Definir el modelo base\n",
    "dt_model = DecisionTreeClassifier()\n",
    "\n",
    "# 4. Definir la grilla de hiperparámetros\n",
    "param_grid_dt = {\n",
    "    'max_depth': [None, 3, 5, 10],                 # profundidad máxima\n",
    "    'min_samples_split': [2, 5, 10],               # mínimo para dividir nodo\n",
    "    'min_samples_leaf': [1, 2, 4],                 # mínimo por hoja\n",
    "}\n",
    "\n",
    "# GridSearch con validación cruzada\n",
    "grid_search_dt = GridSearchCV(dt_model, param_grid_dt, cv=5, scoring='accuracy', n_jobs=-1)\n",
    "\n",
    "# Entrenar\n",
    "grid_search_dt.fit(X_train_scaled, y_train)\n",
    "\n",
    "# Mejor modelo\n",
    "best_dt = grid_search_dt.best_estimator_\n",
    "print(\"Mejores parámetros:\", grid_search_dt.best_params_)"
   ]
  },
  {
   "cell_type": "markdown",
   "id": "1d4565cc-56a7-486a-8131-feb1f69c5ca8",
   "metadata": {},
   "source": [
    "### Matríz de confusión de Decision Tree"
   ]
  },
  {
   "cell_type": "code",
   "execution_count": 27,
   "id": "223da767-afd4-49e1-b300-ed794dc3702e",
   "metadata": {},
   "outputs": [
    {
     "data": {
      "image/png": "[encoded data removed]",
      "text/plain": [
       "<Figure size 640x480 with 2 Axes>"
      ]
     },
     "metadata": {},
     "output_type": "display_data"
    },
    {
     "name": "stdout",
     "output_type": "stream",
     "text": [
      "\n",
      "Reporte de Clasificación:\n",
      "              precision    recall  f1-score   support\n",
      "\n",
      "           0       0.69      0.85      0.77        48\n",
      "           1       0.80      0.61      0.69        46\n",
      "\n",
      "    accuracy                           0.73        94\n",
      "   macro avg       0.75      0.73      0.73        94\n",
      "weighted avg       0.75      0.73      0.73        94\n",
      "\n"
     ]
    }
   ],
   "source": [
    "y_pred_dt = best_dt.predict(X_test_scaled)\n",
    "\n",
    "# Crear un heatmap de la matriz de confusión\n",
    "conf_matrix = confusion_matrix(y_test, y_pred_dt)\n",
    "\n",
    "sns.heatmap(conf_matrix, annot=True, fmt='d', cmap='Blues', xticklabels=['Derrota', 'Victoria'], yticklabels=['Derrota', 'Victoria'])\n",
    "plt.xlabel('Predicciones')\n",
    "plt.ylabel('Valores Reales')\n",
    "plt.title('Matriz de Confusión')\n",
    "plt.show()\n",
    "\n",
    "print(\"\\nReporte de Clasificación:\")\n",
    "print(classification_report(y_test, y_pred_dt))"
   ]
  },
  {
   "cell_type": "markdown",
   "id": "2b72e5d0-b5da-41a2-90ea-31b1b139bdcb",
   "metadata": {},
   "source": [
    "### Curva ROC-AUC de decition tree"
   ]
  },
  {
   "cell_type": "code",
   "execution_count": 28,
   "id": "6d9b0a6e-60c0-41b9-8570-b9609c005f53",
   "metadata": {},
   "outputs": [
    {
     "data": {
      "image/png": "[encoded data removed]",
      "text/plain": [
       "<Figure size 800x600 with 1 Axes>"
      ]
     },
     "metadata": {},
     "output_type": "display_data"
    }
   ],
   "source": [
    "# Probabilidad de la clase positiva (1, por ejemplo \"victoria\")\n",
    "y_probs_dt = best_dt.predict_proba(X_test_scaled)[:, 1]\n",
    "\n",
    "fpr, tpr, thresholds = roc_curve(y_test, y_probs_dt)\n",
    "auc = roc_auc_score(y_test, y_probs_dt)\n",
    "\n",
    "# 4. Graficar\n",
    "plt.figure(figsize=(8,6))\n",
    "plt.plot(fpr, tpr, label=f'AUC = {auc:.2f}')\n",
    "plt.plot([0,1], [0,1], 'k--', label='Random')\n",
    "plt.xlabel('Tasa de falsos positivos (FPR)')\n",
    "plt.ylabel('Tasa de verdaderos positivos (TPR)')\n",
    "plt.title('Curva ROC - Decision Tree')\n",
    "plt.legend(loc='lower right')\n",
    "plt.grid(True)\n",
    "plt.show()\n"
   ]
  },
  {
   "cell_type": "markdown",
   "id": "48ae92a4-8211-4d73-9121-9b35c2f3d2ce",
   "metadata": {
    "jp-MarkdownHeadingCollapsed": true
   },
   "source": [
    "## Random Forest con ajuste de hiperparámetros"
   ]
  },
  {
   "cell_type": "code",
   "execution_count": 29,
   "id": "ab4536b5-4b92-445a-9e6b-5bb73a1f401e",
   "metadata": {},
   "outputs": [
    {
     "name": "stdout",
     "output_type": "stream",
     "text": [
      "Mejores parámetros: {'max_depth': None, 'min_samples_leaf': 2, 'min_samples_split': 10, 'n_estimators': 200}\n"
     ]
    }
   ],
   "source": [
    "model_rf = RandomForestClassifier()\n",
    "\n",
    "param_grid_rf = {\n",
    "    'n_estimators': [10, 50, 100, 200],      # número de árboles\n",
    "    'max_depth': [None, 3, 5, 10, 20, 30],   # profundidad máxima\n",
    "    'min_samples_split': [2, 5, 10],         # mínimo para dividir nodo\n",
    "    'min_samples_leaf': [1, 2, 4],           # mínimo por hoja\n",
    "}\n",
    "\n",
    "# GridSearch con validación cruzada\n",
    "grid_search_rf = GridSearchCV(model_rf, param_grid_rf, cv=5, scoring='accuracy', n_jobs=-1)\n",
    "\n",
    "# Entrenar\n",
    "grid_search_rf.fit(X_train_scaled, y_train)\n",
    "\n",
    "# Mejor modelo\n",
    "best_rf = grid_search_rf.best_estimator_\n",
    "print(\"Mejores parámetros:\", grid_search_rf.best_params_)"
   ]
  },
  {
   "cell_type": "markdown",
   "id": "9924ef6f-9458-435f-ab25-8dfb0e225539",
   "metadata": {},
   "source": [
    "### Matríz de confusión de Random Forest"
   ]
  },
  {
   "cell_type": "code",
   "execution_count": 30,
   "id": "2ad62220-ca94-482d-b8a0-7ee5f2dba6e3",
   "metadata": {},
   "outputs": [
    {
     "data": {
      "image/png": "[encoded data removed]",
      "text/plain": [
       "<Figure size 640x480 with 2 Axes>"
      ]
     },
     "metadata": {},
     "output_type": "display_data"
    },
    {
     "name": "stdout",
     "output_type": "stream",
     "text": [
      "\n",
      "Reporte de Clasificación:\n",
      "              precision    recall  f1-score   support\n",
      "\n",
      "           0       0.74      0.88      0.80        48\n",
      "           1       0.84      0.67      0.75        46\n",
      "\n",
      "    accuracy                           0.78        94\n",
      "   macro avg       0.79      0.77      0.77        94\n",
      "weighted avg       0.79      0.78      0.77        94\n",
      "\n"
     ]
    }
   ],
   "source": [
    "y_pred_rf = best_rf.predict(X_test_scaled)\n",
    "\n",
    "# Crear un heatmap de la matriz de confusión\n",
    "conf_matrix = confusion_matrix(y_test, y_pred_rf)\n",
    "\n",
    "sns.heatmap(conf_matrix, annot=True, fmt='d', cmap='Blues', xticklabels=['Derrota', 'Victoria'], yticklabels=['Derrota', 'Victoria'])\n",
    "plt.xlabel('Predicciones')\n",
    "plt.ylabel('Valores Reales')\n",
    "plt.title('Matriz de Confusión')\n",
    "plt.show()\n",
    "\n",
    "print(\"\\nReporte de Clasificación:\")\n",
    "print(classification_report(y_test, y_pred_rf))"
   ]
  },
  {
   "cell_type": "markdown",
   "id": "86c4463e-2347-4d5b-a9fd-caac59666ac2",
   "metadata": {},
   "source": [
    "### Curva ROC-AUC de Random Forest"
   ]
  },
  {
   "cell_type": "code",
   "execution_count": 31,
   "id": "ef6cc880-8752-4bbf-a800-71a138b8d8f0",
   "metadata": {},
   "outputs": [
    {
     "data": {
      "image/png": "[encoded data removed]",
      "text/plain": [
       "<Figure size 800x600 with 1 Axes>"
      ]
     },
     "metadata": {},
     "output_type": "display_data"
    }
   ],
   "source": [
    "# Probabilidad de la clase positiva (1, por ejemplo \"victoria\")\n",
    "y_probs_rf = best_rf.predict_proba(X_test_scaled)[:, 1]\n",
    "\n",
    "fpr, tpr, thresholds = roc_curve(y_test, y_pred_rf)\n",
    "auc = roc_auc_score(y_test, y_pred_rf)\n",
    "\n",
    "# 4. Graficar\n",
    "plt.figure(figsize=(8,6))\n",
    "plt.plot(fpr, tpr, label=f'AUC = {auc:.2f}')\n",
    "plt.plot([0,1], [0,1], 'k--', label='Random')\n",
    "plt.xlabel('Tasa de falsos positivos (FPR)')\n",
    "plt.ylabel('Tasa de verdaderos positivos (TPR)')\n",
    "plt.title('Curva ROC - Random Forest')\n",
    "plt.legend(loc='lower right')\n",
    "plt.grid(True)\n",
    "plt.show()\n"
   ]
  },
  {
   "cell_type": "markdown",
   "id": "79595536-4a81-40b1-97dd-d208ef56c7e7",
   "metadata": {
    "jp-MarkdownHeadingCollapsed": true
   },
   "source": [
    "## Red neuronal"
   ]
  },
  {
   "cell_type": "code",
   "execution_count": 32,
   "id": "29b4bbfe-5bd1-4654-aee0-8893bfc66bb2",
   "metadata": {},
   "outputs": [
    {
     "data": {
      "text/html": [
       "<pre style=\"white-space:pre;overflow-x:auto;line-height:normal;font-family:Menlo,'DejaVu Sans Mono',consolas,'Courier New',monospace\"><span style=\"font-weight: bold\">Model: \"sequential\"</span>\n",
       "</pre>\n"
      ],
      "text/plain": [
       "\u001b[1mModel: \"sequential\"\u001b[0m\n"
      ]
     },
     "metadata": {},
     "output_type": "display_data"
    },
    {
     "data": {
      "text/html": [
       "<pre style=\"white-space:pre;overflow-x:auto;line-height:normal;font-family:Menlo,'DejaVu Sans Mono',consolas,'Courier New',monospace\">┏━━━━━━━━━━━━━━━━━━━━━━━━━━━━━━━━━━━━━━┳━━━━━━━━━━━━━━━━━━━━━━━━━━━━━┳━━━━━━━━━━━━━━━━━┓\n",
       "┃<span style=\"font-weight: bold\"> Layer (type)                         </span>┃<span style=\"font-weight: bold\"> Output Shape                </span>┃<span style=\"font-weight: bold\">         Param # </span>┃\n",
       "┡━━━━━━━━━━━━━━━━━━━━━━━━━━━━━━━━━━━━━━╇━━━━━━━━━━━━━━━━━━━━━━━━━━━━━╇━━━━━━━━━━━━━━━━━┩\n",
       "│ dense (<span style=\"color: #0087ff; text-decoration-color: #0087ff\">Dense</span>)                        │ (<span style=\"color: #00d7ff; text-decoration-color: #00d7ff\">None</span>, <span style=\"color: #00af00; text-decoration-color: #00af00\">32</span>)                  │           <span style=\"color: #00af00; text-decoration-color: #00af00\">6,976</span> │\n",
       "├──────────────────────────────────────┼─────────────────────────────┼─────────────────┤\n",
       "│ dropout (<span style=\"color: #0087ff; text-decoration-color: #0087ff\">Dropout</span>)                    │ (<span style=\"color: #00d7ff; text-decoration-color: #00d7ff\">None</span>, <span style=\"color: #00af00; text-decoration-color: #00af00\">32</span>)                  │               <span style=\"color: #00af00; text-decoration-color: #00af00\">0</span> │\n",
       "├──────────────────────────────────────┼─────────────────────────────┼─────────────────┤\n",
       "│ dense_1 (<span style=\"color: #0087ff; text-decoration-color: #0087ff\">Dense</span>)                      │ (<span style=\"color: #00d7ff; text-decoration-color: #00d7ff\">None</span>, <span style=\"color: #00af00; text-decoration-color: #00af00\">16</span>)                  │             <span style=\"color: #00af00; text-decoration-color: #00af00\">528</span> │\n",
       "├──────────────────────────────────────┼─────────────────────────────┼─────────────────┤\n",
       "│ dropout_1 (<span style=\"color: #0087ff; text-decoration-color: #0087ff\">Dropout</span>)                  │ (<span style=\"color: #00d7ff; text-decoration-color: #00d7ff\">None</span>, <span style=\"color: #00af00; text-decoration-color: #00af00\">16</span>)                  │               <span style=\"color: #00af00; text-decoration-color: #00af00\">0</span> │\n",
       "├──────────────────────────────────────┼─────────────────────────────┼─────────────────┤\n",
       "│ dense_2 (<span style=\"color: #0087ff; text-decoration-color: #0087ff\">Dense</span>)                      │ (<span style=\"color: #00d7ff; text-decoration-color: #00d7ff\">None</span>, <span style=\"color: #00af00; text-decoration-color: #00af00\">8</span>)                   │             <span style=\"color: #00af00; text-decoration-color: #00af00\">136</span> │\n",
       "├──────────────────────────────────────┼─────────────────────────────┼─────────────────┤\n",
       "│ dropout_2 (<span style=\"color: #0087ff; text-decoration-color: #0087ff\">Dropout</span>)                  │ (<span style=\"color: #00d7ff; text-decoration-color: #00d7ff\">None</span>, <span style=\"color: #00af00; text-decoration-color: #00af00\">8</span>)                   │               <span style=\"color: #00af00; text-decoration-color: #00af00\">0</span> │\n",
       "├──────────────────────────────────────┼─────────────────────────────┼─────────────────┤\n",
       "│ dense_3 (<span style=\"color: #0087ff; text-decoration-color: #0087ff\">Dense</span>)                      │ (<span style=\"color: #00d7ff; text-decoration-color: #00d7ff\">None</span>, <span style=\"color: #00af00; text-decoration-color: #00af00\">1</span>)                   │               <span style=\"color: #00af00; text-decoration-color: #00af00\">9</span> │\n",
       "└──────────────────────────────────────┴─────────────────────────────┴─────────────────┘\n",
       "</pre>\n"
      ],
      "text/plain": [
       "┏━━━━━━━━━━━━━━━━━━━━━━━━━━━━━━━━━━━━━━┳━━━━━━━━━━━━━━━━━━━━━━━━━━━━━┳━━━━━━━━━━━━━━━━━┓\n",
       "┃\u001b[1m \u001b[0m\u001b[1mLayer (type)                        \u001b[0m\u001b[1m \u001b[0m┃\u001b[1m \u001b[0m\u001b[1mOutput Shape               \u001b[0m\u001b[1m \u001b[0m┃\u001b[1m \u001b[0m\u001b[1m        Param #\u001b[0m\u001b[1m \u001b[0m┃\n",
       "┡━━━━━━━━━━━━━━━━━━━━━━━━━━━━━━━━━━━━━━╇━━━━━━━━━━━━━━━━━━━━━━━━━━━━━╇━━━━━━━━━━━━━━━━━┩\n",
       "│ dense (\u001b[38;5;33mDense\u001b[0m)                        │ (\u001b[38;5;45mNone\u001b[0m, \u001b[38;5;34m32\u001b[0m)                  │           \u001b[38;5;34m6,976\u001b[0m │\n",
       "├──────────────────────────────────────┼─────────────────────────────┼─────────────────┤\n",
       "│ dropout (\u001b[38;5;33mDropout\u001b[0m)                    │ (\u001b[38;5;45mNone\u001b[0m, \u001b[38;5;34m32\u001b[0m)                  │               \u001b[38;5;34m0\u001b[0m │\n",
       "├──────────────────────────────────────┼─────────────────────────────┼─────────────────┤\n",
       "│ dense_1 (\u001b[38;5;33mDense\u001b[0m)                      │ (\u001b[38;5;45mNone\u001b[0m, \u001b[38;5;34m16\u001b[0m)                  │             \u001b[38;5;34m528\u001b[0m │\n",
       "├──────────────────────────────────────┼─────────────────────────────┼─────────────────┤\n",
       "│ dropout_1 (\u001b[38;5;33mDropout\u001b[0m)                  │ (\u001b[38;5;45mNone\u001b[0m, \u001b[38;5;34m16\u001b[0m)                  │               \u001b[38;5;34m0\u001b[0m │\n",
       "├──────────────────────────────────────┼─────────────────────────────┼─────────────────┤\n",
       "│ dense_2 (\u001b[38;5;33mDense\u001b[0m)                      │ (\u001b[38;5;45mNone\u001b[0m, \u001b[38;5;34m8\u001b[0m)                   │             \u001b[38;5;34m136\u001b[0m │\n",
       "├──────────────────────────────────────┼─────────────────────────────┼─────────────────┤\n",
       "│ dropout_2 (\u001b[38;5;33mDropout\u001b[0m)                  │ (\u001b[38;5;45mNone\u001b[0m, \u001b[38;5;34m8\u001b[0m)                   │               \u001b[38;5;34m0\u001b[0m │\n",
       "├──────────────────────────────────────┼─────────────────────────────┼─────────────────┤\n",
       "│ dense_3 (\u001b[38;5;33mDense\u001b[0m)                      │ (\u001b[38;5;45mNone\u001b[0m, \u001b[38;5;34m1\u001b[0m)                   │               \u001b[38;5;34m9\u001b[0m │\n",
       "└──────────────────────────────────────┴─────────────────────────────┴─────────────────┘\n"
      ]
     },
     "metadata": {},
     "output_type": "display_data"
    },
    {
     "data": {
      "text/html": [
       "<pre style=\"white-space:pre;overflow-x:auto;line-height:normal;font-family:Menlo,'DejaVu Sans Mono',consolas,'Courier New',monospace\"><span style=\"font-weight: bold\"> Total params: </span><span style=\"color: #00af00; text-decoration-color: #00af00\">7,649</span> (29.88 KB)\n",
       "</pre>\n"
      ],
      "text/plain": [
       "\u001b[1m Total params: \u001b[0m\u001b[38;5;34m7,649\u001b[0m (29.88 KB)\n"
      ]
     },
     "metadata": {},
     "output_type": "display_data"
    },
    {
     "data": {
      "text/html": [
       "<pre style=\"white-space:pre;overflow-x:auto;line-height:normal;font-family:Menlo,'DejaVu Sans Mono',consolas,'Courier New',monospace\"><span style=\"font-weight: bold\"> Trainable params: </span><span style=\"color: #00af00; text-decoration-color: #00af00\">7,649</span> (29.88 KB)\n",
       "</pre>\n"
      ],
      "text/plain": [
       "\u001b[1m Trainable params: \u001b[0m\u001b[38;5;34m7,649\u001b[0m (29.88 KB)\n"
      ]
     },
     "metadata": {},
     "output_type": "display_data"
    },
    {
     "data": {
      "text/html": [
       "<pre style=\"white-space:pre;overflow-x:auto;line-height:normal;font-family:Menlo,'DejaVu Sans Mono',consolas,'Courier New',monospace\"><span style=\"font-weight: bold\"> Non-trainable params: </span><span style=\"color: #00af00; text-decoration-color: #00af00\">0</span> (0.00 B)\n",
       "</pre>\n"
      ],
      "text/plain": [
       "\u001b[1m Non-trainable params: \u001b[0m\u001b[38;5;34m0\u001b[0m (0.00 B)\n"
      ]
     },
     "metadata": {},
     "output_type": "display_data"
    }
   ],
   "source": [
    "# Crear modelo\n",
    "model_mlp = Sequential([\n",
    "    Dense(32, activation='relu', kernel_initializer=HeNormal(),\n",
    "          kernel_regularizer=l2(0.001), use_bias=True,\n",
    "          bias_initializer='zeros', input_shape=(X_train_scaled.shape[1],)),\n",
    "    Dropout(0.3),\n",
    "\n",
    "    Dense(16, activation='relu', kernel_initializer=HeNormal(),\n",
    "          kernel_regularizer=l2(0.001), use_bias=True,\n",
    "          bias_initializer='zeros'),\n",
    "    Dropout(0.3),\n",
    "\n",
    "    Dense(8, activation='relu', kernel_initializer=HeNormal(),\n",
    "          kernel_regularizer=l2(0.001), use_bias=True,\n",
    "          bias_initializer='zeros'),\n",
    "    Dropout(0.3),\n",
    "\n",
    "    Dense(1, activation='sigmoid')  # salida binaria\n",
    "])\n",
    "\n",
    "model_mlp.summary()"
   ]
  },
  {
   "cell_type": "code",
   "execution_count": 33,
   "id": "dbad0d40-b98a-4c2e-8cfc-12dd74162dd5",
   "metadata": {},
   "outputs": [
    {
     "name": "stdout",
     "output_type": "stream",
     "text": [
      "Epoch 1/50\n",
      "\u001b[1m7/7\u001b[0m \u001b[32m━━━━━━━━━━━━━━━━━━━━\u001b[0m\u001b[37m\u001b[0m \u001b[1m2s\u001b[0m 38ms/step - accuracy: 0.4932 - loss: 263.9841 - val_accuracy: 0.5106 - val_loss: 15.9186\n",
      "Epoch 2/50\n",
      "\u001b[1m7/7\u001b[0m \u001b[32m━━━━━━━━━━━━━━━━━━━━\u001b[0m\u001b[37m\u001b[0m \u001b[1m0s\u001b[0m 10ms/step - accuracy: 0.4932 - loss: 245.0672 - val_accuracy: 0.4894 - val_loss: 0.9222\n",
      "Epoch 3/50\n",
      "\u001b[1m7/7\u001b[0m \u001b[32m━━━━━━━━━━━━━━━━━━━━\u001b[0m\u001b[37m\u001b[0m \u001b[1m0s\u001b[0m 10ms/step - accuracy: 0.4566 - loss: 110.2692 - val_accuracy: 0.5106 - val_loss: 0.8086\n",
      "Epoch 4/50\n",
      "\u001b[1m7/7\u001b[0m \u001b[32m━━━━━━━━━━━━━━━━━━━━\u001b[0m\u001b[37m\u001b[0m \u001b[1m0s\u001b[0m 11ms/step - accuracy: 0.5114 - loss: 65.9882 - val_accuracy: 0.5106 - val_loss: 0.7912\n",
      "Epoch 5/50\n",
      "\u001b[1m7/7\u001b[0m \u001b[32m━━━━━━━━━━━━━━━━━━━━\u001b[0m\u001b[37m\u001b[0m \u001b[1m0s\u001b[0m 10ms/step - accuracy: 0.4658 - loss: 69.8300 - val_accuracy: 0.5106 - val_loss: 0.7818\n",
      "Epoch 6/50\n",
      "\u001b[1m7/7\u001b[0m \u001b[32m━━━━━━━━━━━━━━━━━━━━\u001b[0m\u001b[37m\u001b[0m \u001b[1m0s\u001b[0m 11ms/step - accuracy: 0.5479 - loss: 32.4056 - val_accuracy: 0.5106 - val_loss: 0.7777\n",
      "Epoch 7/50\n",
      "\u001b[1m7/7\u001b[0m \u001b[32m━━━━━━━━━━━━━━━━━━━━\u001b[0m\u001b[37m\u001b[0m \u001b[1m0s\u001b[0m 11ms/step - accuracy: 0.5023 - loss: 61.4266 - val_accuracy: 0.5106 - val_loss: 0.7740\n",
      "Epoch 8/50\n",
      "\u001b[1m7/7\u001b[0m \u001b[32m━━━━━━━━━━━━━━━━━━━━\u001b[0m\u001b[37m\u001b[0m \u001b[1m0s\u001b[0m 10ms/step - accuracy: 0.4703 - loss: 58.4313 - val_accuracy: 0.5106 - val_loss: 0.7707\n",
      "Epoch 9/50\n",
      "\u001b[1m7/7\u001b[0m \u001b[32m━━━━━━━━━━━━━━━━━━━━\u001b[0m\u001b[37m\u001b[0m \u001b[1m0s\u001b[0m 11ms/step - accuracy: 0.5251 - loss: 18.8689 - val_accuracy: 0.5106 - val_loss: 0.7677\n",
      "Epoch 10/50\n",
      "\u001b[1m7/7\u001b[0m \u001b[32m━━━━━━━━━━━━━━━━━━━━\u001b[0m\u001b[37m\u001b[0m \u001b[1m0s\u001b[0m 11ms/step - accuracy: 0.5068 - loss: 29.3477 - val_accuracy: 0.5106 - val_loss: 0.7650\n",
      "Epoch 11/50\n",
      "\u001b[1m7/7\u001b[0m \u001b[32m━━━━━━━━━━━━━━━━━━━━\u001b[0m\u001b[37m\u001b[0m \u001b[1m0s\u001b[0m 11ms/step - accuracy: 0.5205 - loss: 22.2994 - val_accuracy: 0.5106 - val_loss: 0.7627\n",
      "Epoch 12/50\n",
      "\u001b[1m7/7\u001b[0m \u001b[32m━━━━━━━━━━━━━━━━━━━━\u001b[0m\u001b[37m\u001b[0m \u001b[1m0s\u001b[0m 11ms/step - accuracy: 0.5251 - loss: 15.0604 - val_accuracy: 0.5106 - val_loss: 0.7605\n",
      "Epoch 13/50\n",
      "\u001b[1m7/7\u001b[0m \u001b[32m━━━━━━━━━━━━━━━━━━━━\u001b[0m\u001b[37m\u001b[0m \u001b[1m0s\u001b[0m 11ms/step - accuracy: 0.4840 - loss: 21.1390 - val_accuracy: 0.5106 - val_loss: 0.7586\n",
      "Epoch 14/50\n",
      "\u001b[1m7/7\u001b[0m \u001b[32m━━━━━━━━━━━━━━━━━━━━\u001b[0m\u001b[37m\u001b[0m \u001b[1m0s\u001b[0m 10ms/step - accuracy: 0.4886 - loss: 12.1040 - val_accuracy: 0.5106 - val_loss: 0.7569\n",
      "Epoch 15/50\n",
      "\u001b[1m7/7\u001b[0m \u001b[32m━━━━━━━━━━━━━━━━━━━━\u001b[0m\u001b[37m\u001b[0m \u001b[1m0s\u001b[0m 11ms/step - accuracy: 0.5479 - loss: 12.8081 - val_accuracy: 0.5106 - val_loss: 0.7553\n",
      "Epoch 16/50\n",
      "\u001b[1m7/7\u001b[0m \u001b[32m━━━━━━━━━━━━━━━━━━━━\u001b[0m\u001b[37m\u001b[0m \u001b[1m0s\u001b[0m 10ms/step - accuracy: 0.5388 - loss: 8.0249 - val_accuracy: 0.5106 - val_loss: 0.7539\n",
      "Epoch 17/50\n",
      "\u001b[1m7/7\u001b[0m \u001b[32m━━━━━━━━━━━━━━━━━━━━\u001b[0m\u001b[37m\u001b[0m \u001b[1m0s\u001b[0m 10ms/step - accuracy: 0.5297 - loss: 3.4570 - val_accuracy: 0.5106 - val_loss: 0.7526\n",
      "Epoch 18/50\n",
      "\u001b[1m7/7\u001b[0m \u001b[32m━━━━━━━━━━━━━━━━━━━━\u001b[0m\u001b[37m\u001b[0m \u001b[1m0s\u001b[0m 11ms/step - accuracy: 0.5251 - loss: 10.6868 - val_accuracy: 0.5106 - val_loss: 0.7515\n",
      "Epoch 19/50\n",
      "\u001b[1m7/7\u001b[0m \u001b[32m━━━━━━━━━━━━━━━━━━━━\u001b[0m\u001b[37m\u001b[0m \u001b[1m0s\u001b[0m 10ms/step - accuracy: 0.4658 - loss: 13.6492 - val_accuracy: 0.5106 - val_loss: 0.7504\n",
      "Epoch 20/50\n",
      "\u001b[1m7/7\u001b[0m \u001b[32m━━━━━━━━━━━━━━━━━━━━\u001b[0m\u001b[37m\u001b[0m \u001b[1m0s\u001b[0m 10ms/step - accuracy: 0.4612 - loss: 7.8101 - val_accuracy: 0.5106 - val_loss: 0.7495\n",
      "Epoch 21/50\n",
      "\u001b[1m7/7\u001b[0m \u001b[32m━━━━━━━━━━━━━━━━━━━━\u001b[0m\u001b[37m\u001b[0m \u001b[1m0s\u001b[0m 11ms/step - accuracy: 0.5068 - loss: 11.4838 - val_accuracy: 0.5106 - val_loss: 0.7486\n",
      "Epoch 22/50\n",
      "\u001b[1m7/7\u001b[0m \u001b[32m━━━━━━━━━━━━━━━━━━━━\u001b[0m\u001b[37m\u001b[0m \u001b[1m0s\u001b[0m 11ms/step - accuracy: 0.5114 - loss: 12.8578 - val_accuracy: 0.5106 - val_loss: 0.7478\n",
      "Epoch 23/50\n",
      "\u001b[1m7/7\u001b[0m \u001b[32m━━━━━━━━━━━━━━━━━━━━\u001b[0m\u001b[37m\u001b[0m \u001b[1m0s\u001b[0m 11ms/step - accuracy: 0.4703 - loss: 11.7465 - val_accuracy: 0.5106 - val_loss: 0.7471\n",
      "Epoch 24/50\n",
      "\u001b[1m7/7\u001b[0m \u001b[32m━━━━━━━━━━━━━━━━━━━━\u001b[0m\u001b[37m\u001b[0m \u001b[1m0s\u001b[0m 11ms/step - accuracy: 0.4658 - loss: 6.6296 - val_accuracy: 0.5106 - val_loss: 0.7465\n",
      "Epoch 25/50\n",
      "\u001b[1m7/7\u001b[0m \u001b[32m━━━━━━━━━━━━━━━━━━━━\u001b[0m\u001b[37m\u001b[0m \u001b[1m0s\u001b[0m 10ms/step - accuracy: 0.5068 - loss: 2.8128 - val_accuracy: 0.5106 - val_loss: 0.7459\n",
      "Epoch 26/50\n",
      "\u001b[1m7/7\u001b[0m \u001b[32m━━━━━━━━━━━━━━━━━━━━\u001b[0m\u001b[37m\u001b[0m \u001b[1m0s\u001b[0m 10ms/step - accuracy: 0.5479 - loss: 5.7123 - val_accuracy: 0.5106 - val_loss: 0.7454\n",
      "Epoch 27/50\n",
      "\u001b[1m7/7\u001b[0m \u001b[32m━━━━━━━━━━━━━━━━━━━━\u001b[0m\u001b[37m\u001b[0m \u001b[1m0s\u001b[0m 11ms/step - accuracy: 0.4521 - loss: 7.2815 - val_accuracy: 0.5106 - val_loss: 0.7449\n",
      "Epoch 28/50\n",
      "\u001b[1m7/7\u001b[0m \u001b[32m━━━━━━━━━━━━━━━━━━━━\u001b[0m\u001b[37m\u001b[0m \u001b[1m0s\u001b[0m 11ms/step - accuracy: 0.5114 - loss: 8.0988 - val_accuracy: 0.5106 - val_loss: 0.7444\n",
      "Epoch 29/50\n",
      "\u001b[1m7/7\u001b[0m \u001b[32m━━━━━━━━━━━━━━━━━━━━\u001b[0m\u001b[37m\u001b[0m \u001b[1m0s\u001b[0m 10ms/step - accuracy: 0.5068 - loss: 11.2084 - val_accuracy: 0.5106 - val_loss: 0.7440\n",
      "Epoch 30/50\n",
      "\u001b[1m7/7\u001b[0m \u001b[32m━━━━━━━━━━━━━━━━━━━━\u001b[0m\u001b[37m\u001b[0m \u001b[1m0s\u001b[0m 11ms/step - accuracy: 0.4932 - loss: 10.0820 - val_accuracy: 0.5106 - val_loss: 0.7436\n",
      "Epoch 31/50\n",
      "\u001b[1m7/7\u001b[0m \u001b[32m━━━━━━━━━━━━━━━━━━━━\u001b[0m\u001b[37m\u001b[0m \u001b[1m0s\u001b[0m 11ms/step - accuracy: 0.4932 - loss: 6.9998 - val_accuracy: 0.5106 - val_loss: 0.7433\n",
      "Epoch 32/50\n",
      "\u001b[1m7/7\u001b[0m \u001b[32m━━━━━━━━━━━━━━━━━━━━\u001b[0m\u001b[37m\u001b[0m \u001b[1m0s\u001b[0m 10ms/step - accuracy: 0.5205 - loss: 5.9531 - val_accuracy: 0.5106 - val_loss: 0.7429\n",
      "Epoch 33/50\n",
      "\u001b[1m7/7\u001b[0m \u001b[32m━━━━━━━━━━━━━━━━━━━━\u001b[0m\u001b[37m\u001b[0m \u001b[1m0s\u001b[0m 11ms/step - accuracy: 0.4932 - loss: 8.6887 - val_accuracy: 0.5106 - val_loss: 0.7426\n",
      "Epoch 34/50\n",
      "\u001b[1m7/7\u001b[0m \u001b[32m━━━━━━━━━━━━━━━━━━━━\u001b[0m\u001b[37m\u001b[0m \u001b[1m0s\u001b[0m 10ms/step - accuracy: 0.5160 - loss: 3.6793 - val_accuracy: 0.5106 - val_loss: 0.7423\n",
      "Epoch 35/50\n",
      "\u001b[1m7/7\u001b[0m \u001b[32m━━━━━━━━━━━━━━━━━━━━\u001b[0m\u001b[37m\u001b[0m \u001b[1m0s\u001b[0m 10ms/step - accuracy: 0.4977 - loss: 5.6978 - val_accuracy: 0.5106 - val_loss: 0.7420\n",
      "Epoch 36/50\n",
      "\u001b[1m7/7\u001b[0m \u001b[32m━━━━━━━━━━━━━━━━━━━━\u001b[0m\u001b[37m\u001b[0m \u001b[1m0s\u001b[0m 18ms/step - accuracy: 0.5251 - loss: 3.2132 - val_accuracy: 0.5106 - val_loss: 0.7418\n",
      "Epoch 37/50\n",
      "\u001b[1m7/7\u001b[0m \u001b[32m━━━━━━━━━━━━━━━━━━━━\u001b[0m\u001b[37m\u001b[0m \u001b[1m0s\u001b[0m 11ms/step - accuracy: 0.4932 - loss: 5.0173 - val_accuracy: 0.5106 - val_loss: 0.7416\n",
      "Epoch 38/50\n",
      "\u001b[1m7/7\u001b[0m \u001b[32m━━━━━━━━━━━━━━━━━━━━\u001b[0m\u001b[37m\u001b[0m \u001b[1m0s\u001b[0m 10ms/step - accuracy: 0.4795 - loss: 8.5209 - val_accuracy: 0.5106 - val_loss: 0.7413\n",
      "Epoch 39/50\n",
      "\u001b[1m7/7\u001b[0m \u001b[32m━━━━━━━━━━━━━━━━━━━━\u001b[0m\u001b[37m\u001b[0m \u001b[1m0s\u001b[0m 9ms/step - accuracy: 0.5297 - loss: 2.0103 - val_accuracy: 0.5106 - val_loss: 0.7411\n",
      "Epoch 40/50\n",
      "\u001b[1m7/7\u001b[0m \u001b[32m━━━━━━━━━━━━━━━━━━━━\u001b[0m\u001b[37m\u001b[0m \u001b[1m0s\u001b[0m 10ms/step - accuracy: 0.4658 - loss: 6.1111 - val_accuracy: 0.5106 - val_loss: 0.7409\n",
      "Epoch 41/50\n",
      "\u001b[1m7/7\u001b[0m \u001b[32m━━━━━━━━━━━━━━━━━━━━\u001b[0m\u001b[37m\u001b[0m \u001b[1m0s\u001b[0m 11ms/step - accuracy: 0.4886 - loss: 8.3867 - val_accuracy: 0.5106 - val_loss: 0.7408\n",
      "Epoch 42/50\n",
      "\u001b[1m7/7\u001b[0m \u001b[32m━━━━━━━━━━━━━━━━━━━━\u001b[0m\u001b[37m\u001b[0m \u001b[1m0s\u001b[0m 10ms/step - accuracy: 0.5068 - loss: 6.2529 - val_accuracy: 0.5106 - val_loss: 0.7406\n",
      "Epoch 43/50\n",
      "\u001b[1m7/7\u001b[0m \u001b[32m━━━━━━━━━━━━━━━━━━━━\u001b[0m\u001b[37m\u001b[0m \u001b[1m0s\u001b[0m 10ms/step - accuracy: 0.5068 - loss: 5.5417 - val_accuracy: 0.5106 - val_loss: 0.7404\n",
      "Epoch 44/50\n",
      "\u001b[1m7/7\u001b[0m \u001b[32m━━━━━━━━━━━━━━━━━━━━\u001b[0m\u001b[37m\u001b[0m \u001b[1m0s\u001b[0m 11ms/step - accuracy: 0.5068 - loss: 1.2668 - val_accuracy: 0.5106 - val_loss: 0.7403\n",
      "Epoch 45/50\n",
      "\u001b[1m7/7\u001b[0m \u001b[32m━━━━━━━━━━━━━━━━━━━━\u001b[0m\u001b[37m\u001b[0m \u001b[1m0s\u001b[0m 10ms/step - accuracy: 0.5388 - loss: 9.3844 - val_accuracy: 0.5106 - val_loss: 0.7401\n",
      "Epoch 46/50\n",
      "\u001b[1m7/7\u001b[0m \u001b[32m━━━━━━━━━━━━━━━━━━━━\u001b[0m\u001b[37m\u001b[0m \u001b[1m0s\u001b[0m 10ms/step - accuracy: 0.4749 - loss: 4.8576 - val_accuracy: 0.5106 - val_loss: 0.7400\n",
      "Epoch 47/50\n",
      "\u001b[1m7/7\u001b[0m \u001b[32m━━━━━━━━━━━━━━━━━━━━\u001b[0m\u001b[37m\u001b[0m \u001b[1m0s\u001b[0m 10ms/step - accuracy: 0.4932 - loss: 7.3010 - val_accuracy: 0.5106 - val_loss: 0.7398\n",
      "Epoch 48/50\n",
      "\u001b[1m7/7\u001b[0m \u001b[32m━━━━━━━━━━━━━━━━━━━━\u001b[0m\u001b[37m\u001b[0m \u001b[1m0s\u001b[0m 10ms/step - accuracy: 0.4612 - loss: 5.9035 - val_accuracy: 0.5106 - val_loss: 0.7397\n",
      "Epoch 49/50\n",
      "\u001b[1m7/7\u001b[0m \u001b[32m━━━━━━━━━━━━━━━━━━━━\u001b[0m\u001b[37m\u001b[0m \u001b[1m0s\u001b[0m 10ms/step - accuracy: 0.5388 - loss: 2.9544 - val_accuracy: 0.5106 - val_loss: 0.7396\n",
      "Epoch 50/50\n",
      "\u001b[1m7/7\u001b[0m \u001b[32m━━━━━━━━━━━━━━━━━━━━\u001b[0m\u001b[37m\u001b[0m \u001b[1m0s\u001b[0m 10ms/step - accuracy: 0.5297 - loss: 1.1597 - val_accuracy: 0.5106 - val_loss: 0.7395\n"
     ]
    }
   ],
   "source": [
    "# Compilar\n",
    "model_mlp.compile(optimizer=Adam(learning_rate=0.001),\n",
    "              loss='binary_crossentropy',\n",
    "              metrics=['accuracy'])\n",
    "\n",
    "# Entrenar\n",
    "history = model_mlp.fit(X_train_scaled, y_train,\n",
    "                    validation_data=(X_test_scaled, y_test),\n",
    "                    epochs=50,\n",
    "                    batch_size=32,\n",
    "                    verbose=1)\n"
   ]
  },
  {
   "cell_type": "markdown",
   "id": "521b98fa-06de-4fa9-9482-1e66e99a6071",
   "metadata": {},
   "source": [
    "### Matríz de confusión de Red neuronal"
   ]
  },
  {
   "cell_type": "code",
   "execution_count": 34,
   "id": "9b25f64a-7f76-4369-aac8-6b396cbc80a0",
   "metadata": {},
   "outputs": [
    {
     "name": "stdout",
     "output_type": "stream",
     "text": [
      "\u001b[1m3/3\u001b[0m \u001b[32m━━━━━━━━━━━━━━━━━━━━\u001b[0m\u001b[37m\u001b[0m \u001b[1m0s\u001b[0m 22ms/step\n"
     ]
    },
    {
     "data": {
      "image/png": "[encoded data removed]",
      "text/plain": [
       "<Figure size 640x480 with 2 Axes>"
      ]
     },
     "metadata": {},
     "output_type": "display_data"
    },
    {
     "name": "stdout",
     "output_type": "stream",
     "text": [
      "\n",
      "Reporte de Clasificación:\n",
      "              precision    recall  f1-score   support\n",
      "\n",
      "           0       0.51      1.00      0.68        48\n",
      "           1       0.00      0.00      0.00        46\n",
      "\n",
      "    accuracy                           0.51        94\n",
      "   macro avg       0.26      0.50      0.34        94\n",
      "weighted avg       0.26      0.51      0.35        94\n",
      "\n"
     ]
    }
   ],
   "source": [
    "# 1️⃣ Predecir\n",
    "y_pred_prob = model_mlp.predict(X_test_scaled)\n",
    "y_pred = (y_pred_prob > 0.5).astype(int)  # convertir a 0/1\n",
    "\n",
    "conf_matrix = confusion_matrix(y_test, y_pred)\n",
    "\n",
    "sns.heatmap(conf_matrix, annot=True, fmt='d', cmap='Blues', xticklabels=['Clase 0','Clase 1'], yticklabels=['Clase 0','Clase 1'])\n",
    "plt.xlabel('Predicciones')\n",
    "plt.ylabel('Valores Reales')\n",
    "plt.title('Matriz de Confusión MLP')\n",
    "plt.show()\n",
    "\n",
    "# 3️⃣ Reporte de clasificación\n",
    "print(\"\\nReporte de Clasificación:\")\n",
    "print(classification_report(y_test, y_pred))"
   ]
  },
  {
   "cell_type": "markdown",
   "id": "26488ed5-1b85-4c96-81e5-bd35c480a316",
   "metadata": {},
   "source": [
    "## Curva Roc-AUC con Red Neuronal "
   ]
  },
  {
   "cell_type": "code",
   "execution_count": 35,
   "id": "dc8b5217-09ad-45d1-9d0c-355ba072f473",
   "metadata": {},
   "outputs": [
    {
     "name": "stdout",
     "output_type": "stream",
     "text": [
      "\u001b[1m3/3\u001b[0m \u001b[32m━━━━━━━━━━━━━━━━━━━━\u001b[0m\u001b[37m\u001b[0m \u001b[1m0s\u001b[0m 8ms/step \n"
     ]
    },
    {
     "data": {
      "image/png": "[encoded data removed]",
      "text/plain": [
       "<Figure size 800x600 with 1 Axes>"
      ]
     },
     "metadata": {},
     "output_type": "display_data"
    }
   ],
   "source": [
    "# Probabilidad de la clase positiva (1, por ejemplo \"victoria\")\n",
    "y_probs_mlp = model_mlp.predict(X_test_scaled).ravel()  # ravel() para dejarlo 1D\n",
    "\n",
    "plt.figure(figsize=(8,6))\n",
    "plt.plot(fpr, tpr, label=f'AUC = {auc:.2f}', linewidth=2)\n",
    "plt.plot([0,1], [0,1], 'k--', label='Random')\n",
    "plt.xlabel('Tasa de falsos positivos (FPR)')\n",
    "plt.ylabel('Tasa de verdaderos positivos (TPR)')\n",
    "plt.title('Curva ROC - MLP')\n",
    "plt.legend(loc='lower right')\n",
    "plt.grid(True)\n",
    "plt.show()"
   ]
  },
  {
   "cell_type": "markdown",
   "id": "1f95c688-09c5-436d-93b4-66866163f0c8",
   "metadata": {},
   "source": [
    "## XGB con ajuste de hiperparámetros"
   ]
  },
  {
   "cell_type": "code",
   "execution_count": 36,
   "id": "1546101c-c063-40fd-9d00-95298ba007b1",
   "metadata": {},
   "outputs": [
    {
     "name": "stdout",
     "output_type": "stream",
     "text": [
      "Mejores parámetros: {'colsample_bytree': 0.6, 'gamma': 0, 'learning_rate': 0.01, 'max_depth': 5, 'n_estimators': 100, 'subsample': 0.6}\n"
     ]
    }
   ],
   "source": [
    "\n",
    "# 1. Crear el modelo XGB básico\n",
    "model_xgb = xgb.XGBClassifier(random_state=42)\n",
    "\n",
    "# 2. Definir la grilla de hiperparámetros\n",
    "param_grid_xgb = {\n",
    "    'n_estimators': [50, 100, 200, 300],          # cantidad de árboles\n",
    "    'max_depth': [2, 3, 4, 5, 6],                 # profundidad máxima de cada árbol\n",
    "    'learning_rate': [0.01, 0.05, 0.1, 0.2],     # velocidad de aprendizaje\n",
    "    'subsample': [0.6, 0.8, 1.0],                 # proporción de datos para cada árbol\n",
    "    'colsample_bytree': [0.6, 0.8, 1.0],          # proporción de features usadas en cada árbol\n",
    "    'gamma': [0, 0.1, 0.2],                       # regularización para evitar sobreajuste\n",
    "}\n",
    "\n",
    "# 3. Configurar GridSearchCV\n",
    "grid_search_xgb = GridSearchCV(estimator=model_xgb, param_grid=param_grid_xgb, scoring='accuracy', cv=5, n_jobs=-1)\n",
    "\n",
    "# 4. Entrenar\n",
    "grid_search_xgb.fit(X_train_scaled, y_train)\n",
    "\n",
    "best_xgb = grid_search_xgb.best_estimator_\n",
    "print(\"Mejores parámetros:\", grid_search_xgb.best_params_)"
   ]
  },
  {
   "cell_type": "markdown",
   "id": "84565372-5418-4cb1-a3f8-743f6017bdd4",
   "metadata": {},
   "source": [
    "## Matríz de confusión de XGB con hiperparámetros"
   ]
  },
  {
   "cell_type": "code",
   "execution_count": 37,
   "id": "be043d9e-6ca7-4d5d-810d-736adce6015f",
   "metadata": {},
   "outputs": [
    {
     "data": {
      "image/png": "[encoded data removed]",
      "text/plain": [
       "<Figure size 640x480 with 2 Axes>"
      ]
     },
     "metadata": {},
     "output_type": "display_data"
    },
    {
     "name": "stdout",
     "output_type": "stream",
     "text": [
      "\n",
      "Reporte de Clasificación:\n",
      "              precision    recall  f1-score   support\n",
      "\n",
      "           0       0.73      0.85      0.79        48\n",
      "           1       0.82      0.67      0.74        46\n",
      "\n",
      "    accuracy                           0.77        94\n",
      "   macro avg       0.77      0.76      0.76        94\n",
      "weighted avg       0.77      0.77      0.76        94\n",
      "\n"
     ]
    }
   ],
   "source": [
    "# 6. Predecir y evaluar\n",
    "\n",
    "y_pred_xgb = best_xgb.predict(X_test_scaled)\n",
    "\n",
    "# Crear un heatmap de la matriz de confusión\n",
    "conf_matrix = confusion_matrix(y_test, y_pred_xgb)\n",
    "\n",
    "sns.heatmap(conf_matrix, annot=True, fmt='d', cmap='Blues', xticklabels=['Derrota', 'Victoria'], yticklabels=['Derrota', 'Victoria'])\n",
    "plt.xlabel('Predicciones')\n",
    "plt.ylabel('Valores Reales')\n",
    "plt.title('Matriz de Confusión')\n",
    "plt.show()\n",
    "\n",
    "print(\"\\nReporte de Clasificación:\")\n",
    "print(classification_report(y_test, y_pred_xgb))"
   ]
  },
  {
   "cell_type": "markdown",
   "id": "1974e341-6871-420f-b511-8c8a819cfedd",
   "metadata": {},
   "source": [
    "## Curva Roc-AUC con XGB con hiperparámetros"
   ]
  },
  {
   "cell_type": "code",
   "execution_count": 38,
   "id": "7e573cb0-7702-41f6-8f4a-2b0a85db1fd4",
   "metadata": {},
   "outputs": [
    {
     "data": {
      "image/png": "[encoded data removed]",
      "text/plain": [
       "<Figure size 800x600 with 1 Axes>"
      ]
     },
     "metadata": {},
     "output_type": "display_data"
    }
   ],
   "source": [
    "# 1️⃣ Obtener probabilidades de la clase positiva (1 = Victoria)\n",
    "y_probs_xgb = best_xgb.predict_proba(X_test_scaled)[:, 1]  # tomar solo la columna de clase positiva\n",
    "\n",
    "# 2️⃣ Calcular ROC y AUC\n",
    "fpr, tpr, thresholds = roc_curve(y_test, y_probs_xgb)\n",
    "auc = roc_auc_score(y_test, y_probs_xgb)\n",
    "\n",
    "# 3️⃣ Graficar curva ROC\n",
    "plt.figure(figsize=(8,6))\n",
    "plt.plot(fpr, tpr, label=f'AUC = {auc:.2f}', linewidth=2)\n",
    "plt.plot([0,1], [0,1], 'k--', label='Random')\n",
    "plt.xlabel('Tasa de falsos positivos (FPR)')\n",
    "plt.ylabel('Tasa de verdaderos positivos (TPR)')\n",
    "plt.title('Curva ROC - XGBoost')\n",
    "plt.legend(loc='lower right')\n",
    "plt.grid(True)\n",
    "plt.show()"
   ]
  },
  {
   "cell_type": "markdown",
   "id": "e98fa550-4cba-4f97-aa51-5ad455717bcc",
   "metadata": {},
   "source": [
    "# Top 7 Variables más relevantes para el modelo"
   ]
  },
  {
   "cell_type": "code",
   "execution_count": 39,
   "id": "7aa1327b-c604-4888-bbbb-0b2ba779d627",
   "metadata": {},
   "outputs": [
    {
     "data": {
      "image/png": "[encoded data removed]",
      "text/plain": [
       "<Figure size 800x600 with 1 Axes>"
      ]
     },
     "metadata": {},
     "output_type": "display_data"
    }
   ],
   "source": [
    "# Importancias del modelo XGBoost (gain por defecto)\n",
    "importancias = best_xgb.feature_importances_\n",
    "\n",
    "# Seleccionar el top 7\n",
    "top_20_idx = np.argsort(importancias)[-20:][::-1]\n",
    "\n",
    "# Obtener nombres de las features\n",
    "nombres = X_train_scaled.columns[top_20_idx] if hasattr(X_train_scaled, 'columns') else [f'Feature_{i}' for i in top_20_idx]\n",
    "\n",
    "# Gráfico con etiquetas numéricas\n",
    "plt.figure(figsize=(8, 6))\n",
    "bars = plt.barh(y=nombres, width=importancias[top_20_idx], color='#1f77b4')\n",
    "plt.gca().invert_yaxis()  # Mayor importancia arriba\n",
    "plt.title('Top 7 Características Importantes - XGBoost (Gain)')\n",
    "\n",
    "# Agregar los valores numéricos a cada barra\n",
    "for bar, value in zip(bars, importancias[top_20_idx]):\n",
    "    plt.text(value + 0.005,               # un poquito a la derecha de la barra\n",
    "             bar.get_y() + bar.get_height()/2, \n",
    "             f\"{value:.3f}\", va='center')\n",
    "\n",
    "plt.tight_layout()\n",
    "plt.show()\n"
   ]
  },
  {
   "cell_type": "markdown",
   "id": "413a7635-abf3-4c05-bd66-c1767374666b",
   "metadata": {},
   "source": [
    "**Observaciones** \n",
    "Las variables que tiene  un mayor porcentaje de incidencia en la predicción de victoria son:\n",
    "\n",
    "- Destrucción de inhibidores.\n",
    "- Asesinato de dragones.\n",
    "- Derribo de torretas.\n",
    "\n",
    "Sin embargo, estas 3 variables son las predictoras más evidentes, dado que son objetivos principales y casi requerimientos para poder obtener una victoria. Por ello, es mejor dar énfasis a las variables que tienen relación al rendimiento del jugador:\n",
    "\n",
    "- KDA\n",
    "- Daño recibido\n",
    "- 5to item\n",
    "- wards per min\n",
    "\n",
    "En estas variables es donde está el margen de mejora específico del jugador obtener una tasa más alta de victorias.\n",
    "\n",
    "Hipotesis por variable:\n",
    "\n",
    "- KDA: Lo más probale es que a mejor KDA mayor tasa de victorias, pero no necesariamente es así. Hay que corroborar.\n",
    "  \n",
    "- Daño recibido: Esto es probablemente por los roles/campeones jugados, dado que si son roles de tanque, es más probable que el daño recibido sea más alto dado que es la función principal de dicho rol.\n",
    "  \n",
    "- 5to item: Podemos detectar que el 5to item tiene una contribución del 4% en la predicción, lo que lleva a preguntarse, ¿por qué es relevante?. ¿Acaso las partidas que no duran lo suficiente para tener dicho item tiene mayor tasa de victorias?, o ¿depende del item que se utilice en la partida para ganar?.\n",
    "\n",
    "- Wards por minuto: Lo más probale es que mientras más ward per min, mayor tasa de victorias. Hay que corroborar"
   ]
  },
  {
   "cell_type": "markdown",
   "id": "8f8d1fd1-8469-415c-9a41-0be03401ce69",
   "metadata": {},
   "source": [
    "# Validación de Hipotesis"
   ]
  },
  {
   "cell_type": "markdown",
   "id": "00789aae-fe48-4361-a761-7d1c1383b1a9",
   "metadata": {},
   "source": [
    "## Validación 5to item"
   ]
  },
  {
   "cell_type": "code",
   "execution_count": 40,
   "id": "e97fa30b-aa49-4bd6-b4ac-0cb85001abc7",
   "metadata": {},
   "outputs": [
    {
     "ename": "KeyError",
     "evalue": "'item_5'",
     "output_type": "error",
     "traceback": [
      "\u001b[1;31m---------------------------------------------------------------------------\u001b[0m",
      "\u001b[1;31mKeyError\u001b[0m                                  Traceback (most recent call last)",
      "File \u001b[1;32m~\\anaconda3\\Lib\\site-packages\\pandas\\core\\indexes\\base.py:3805\u001b[0m, in \u001b[0;36mIndex.get_loc\u001b[1;34m(self, key)\u001b[0m\n\u001b[0;32m   3804\u001b[0m \u001b[38;5;28;01mtry\u001b[39;00m:\n\u001b[1;32m-> 3805\u001b[0m     \u001b[38;5;28;01mreturn\u001b[39;00m \u001b[38;5;28mself\u001b[39m\u001b[38;5;241m.\u001b[39m_engine\u001b[38;5;241m.\u001b[39mget_loc(casted_key)\n\u001b[0;32m   3806\u001b[0m \u001b[38;5;28;01mexcept\u001b[39;00m \u001b[38;5;167;01mKeyError\u001b[39;00m \u001b[38;5;28;01mas\u001b[39;00m err:\n",
      "File \u001b[1;32mindex.pyx:167\u001b[0m, in \u001b[0;36mpandas._libs.index.IndexEngine.get_loc\u001b[1;34m()\u001b[0m\n",
      "File \u001b[1;32mindex.pyx:196\u001b[0m, in \u001b[0;36mpandas._libs.index.IndexEngine.get_loc\u001b[1;34m()\u001b[0m\n",
      "File \u001b[1;32mpandas\\\\_libs\\\\hashtable_class_helper.pxi:7081\u001b[0m, in \u001b[0;36mpandas._libs.hashtable.PyObjectHashTable.get_item\u001b[1;34m()\u001b[0m\n",
      "File \u001b[1;32mpandas\\\\_libs\\\\hashtable_class_helper.pxi:7089\u001b[0m, in \u001b[0;36mpandas._libs.hashtable.PyObjectHashTable.get_item\u001b[1;34m()\u001b[0m\n",
      "\u001b[1;31mKeyError\u001b[0m: 'item_5'",
      "\nThe above exception was the direct cause of the following exception:\n",
      "\u001b[1;31mKeyError\u001b[0m                                  Traceback (most recent call last)",
      "Cell \u001b[1;32mIn[40], line 5\u001b[0m\n\u001b[0;32m      2\u001b[0m df_hipotesis \u001b[38;5;241m=\u001b[39m df_reducido\u001b[38;5;241m.\u001b[39mcopy()\n\u001b[0;32m      4\u001b[0m \u001b[38;5;66;03m#Creamos la columna has item. Inica si se llegó a tener un 5to item en la partida o no\u001b[39;00m\n\u001b[1;32m----> 5\u001b[0m df_hipotesis[\u001b[38;5;124m\"\u001b[39m\u001b[38;5;124mhas_item5\u001b[39m\u001b[38;5;124m\"\u001b[39m] \u001b[38;5;241m=\u001b[39m (df_hipotesis[\u001b[38;5;124m\"\u001b[39m\u001b[38;5;124mitem_5\u001b[39m\u001b[38;5;124m\"\u001b[39m] \u001b[38;5;241m>\u001b[39m \u001b[38;5;241m0\u001b[39m)\u001b[38;5;241m.\u001b[39mastype(\u001b[38;5;28mint\u001b[39m)\n",
      "File \u001b[1;32m~\\anaconda3\\Lib\\site-packages\\pandas\\core\\frame.py:4102\u001b[0m, in \u001b[0;36mDataFrame.__getitem__\u001b[1;34m(self, key)\u001b[0m\n\u001b[0;32m   4100\u001b[0m \u001b[38;5;28;01mif\u001b[39;00m \u001b[38;5;28mself\u001b[39m\u001b[38;5;241m.\u001b[39mcolumns\u001b[38;5;241m.\u001b[39mnlevels \u001b[38;5;241m>\u001b[39m \u001b[38;5;241m1\u001b[39m:\n\u001b[0;32m   4101\u001b[0m     \u001b[38;5;28;01mreturn\u001b[39;00m \u001b[38;5;28mself\u001b[39m\u001b[38;5;241m.\u001b[39m_getitem_multilevel(key)\n\u001b[1;32m-> 4102\u001b[0m indexer \u001b[38;5;241m=\u001b[39m \u001b[38;5;28mself\u001b[39m\u001b[38;5;241m.\u001b[39mcolumns\u001b[38;5;241m.\u001b[39mget_loc(key)\n\u001b[0;32m   4103\u001b[0m \u001b[38;5;28;01mif\u001b[39;00m is_integer(indexer):\n\u001b[0;32m   4104\u001b[0m     indexer \u001b[38;5;241m=\u001b[39m [indexer]\n",
      "File \u001b[1;32m~\\anaconda3\\Lib\\site-packages\\pandas\\core\\indexes\\base.py:3812\u001b[0m, in \u001b[0;36mIndex.get_loc\u001b[1;34m(self, key)\u001b[0m\n\u001b[0;32m   3807\u001b[0m     \u001b[38;5;28;01mif\u001b[39;00m \u001b[38;5;28misinstance\u001b[39m(casted_key, \u001b[38;5;28mslice\u001b[39m) \u001b[38;5;129;01mor\u001b[39;00m (\n\u001b[0;32m   3808\u001b[0m         \u001b[38;5;28misinstance\u001b[39m(casted_key, abc\u001b[38;5;241m.\u001b[39mIterable)\n\u001b[0;32m   3809\u001b[0m         \u001b[38;5;129;01mand\u001b[39;00m \u001b[38;5;28many\u001b[39m(\u001b[38;5;28misinstance\u001b[39m(x, \u001b[38;5;28mslice\u001b[39m) \u001b[38;5;28;01mfor\u001b[39;00m x \u001b[38;5;129;01min\u001b[39;00m casted_key)\n\u001b[0;32m   3810\u001b[0m     ):\n\u001b[0;32m   3811\u001b[0m         \u001b[38;5;28;01mraise\u001b[39;00m InvalidIndexError(key)\n\u001b[1;32m-> 3812\u001b[0m     \u001b[38;5;28;01mraise\u001b[39;00m \u001b[38;5;167;01mKeyError\u001b[39;00m(key) \u001b[38;5;28;01mfrom\u001b[39;00m\u001b[38;5;250m \u001b[39m\u001b[38;5;21;01merr\u001b[39;00m\n\u001b[0;32m   3813\u001b[0m \u001b[38;5;28;01mexcept\u001b[39;00m \u001b[38;5;167;01mTypeError\u001b[39;00m:\n\u001b[0;32m   3814\u001b[0m     \u001b[38;5;66;03m# If we have a listlike key, _check_indexing_error will raise\u001b[39;00m\n\u001b[0;32m   3815\u001b[0m     \u001b[38;5;66;03m#  InvalidIndexError. Otherwise we fall through and re-raise\u001b[39;00m\n\u001b[0;32m   3816\u001b[0m     \u001b[38;5;66;03m#  the TypeError.\u001b[39;00m\n\u001b[0;32m   3817\u001b[0m     \u001b[38;5;28mself\u001b[39m\u001b[38;5;241m.\u001b[39m_check_indexing_error(key)\n",
      "\u001b[1;31mKeyError\u001b[0m: 'item_5'"
     ]
    }
   ],
   "source": [
    "# Creamos un df nuevo\n",
    "df_hipotesis = df_reducido.copy()\n",
    "\n",
    "#Creamos la columna has item. Inica si se llegó a tener un 5to item en la partida o no\n",
    "df_hipotesis[\"has_item5\"] = (df_hipotesis[\"item_5\"] > 0).astype(int)"
   ]
  },
  {
   "cell_type": "code",
   "execution_count": null,
   "id": "8b50384d-9e98-498a-9462-04fdd54ead3b",
   "metadata": {},
   "outputs": [],
   "source": [
    "# Creamos tabla dinámica para saber cuantas partidas se ganaron y perdieron comprando el 5to item o no\n",
    "tabla_item = pd.crosstab(df_hipotesis['victoria'], df_hipotesis['has_item5'])\n",
    "tabla_item"
   ]
  },
  {
   "cell_type": "code",
   "execution_count": null,
   "id": "a18dc9a6-5695-4bdd-9450-e30b260c4873",
   "metadata": {},
   "outputs": [],
   "source": [
    "# Creamos tabla dinámica para saber probabilidad de partidas que se ganaron y perdieron comprando el 5to item o no\n",
    "tabla_quinto_item = pd.crosstab(df_hipotesis['victoria'], df_hipotesis['has_item5'],normalize='index')\n",
    "tabla_quinto_item"
   ]
  },
  {
   "cell_type": "markdown",
   "id": "e957093d-d364-4d08-8a79-9a5f25887f32",
   "metadata": {},
   "source": [
    "**Observaciones** \n",
    "\n",
    "- En un 80% de las victorias, se ganó teniendo el 5to item. Sin embargo, En un 60% de las derrotas, se perdieron teniendo el 5to item.\n",
    "- En proporción, un 55% de los casos es victoria teniendo el item, es decir, existe una leve tendencia a ganar más partidas teniendo el 5to item que a perderlas.\n",
    "- Podemos concluir que tener 5to item tiene influencia en al victoria de una partida"
   ]
  },
  {
   "cell_type": "markdown",
   "id": "3d11e066-75dc-4658-8047-01e3b31e3301",
   "metadata": {},
   "source": [
    "## Pero ¿Qué 5to item gana más partidas?"
   ]
  },
  {
   "cell_type": "code",
   "execution_count": null,
   "id": "5744752e-94b3-418e-b2e0-c8bc915240b1",
   "metadata": {},
   "outputs": [],
   "source": [
    "# Filtrar para ignorar item_5 = 0\n",
    "df_items = df_hipotesis[df_hipotesis['item_5'] != 0]\n",
    "\n",
    "# Agrupar por item 5\n",
    "tabla_items = df_items.groupby('item_5').agg(\n",
    "    partidas_usadas = ('victoria', 'count'),   # cuántas partidas usaste este ítem\n",
    "    partidas_ganadas = ('victoria', 'sum')    # cuántas veces ganaste con este ítem\n",
    ")\n",
    "\n",
    "# Calcular win rate\n",
    "tabla_items['win_rate'] = tabla_items['partidas_ganadas'] / tabla_items['partidas_usadas']\n",
    "\n",
    "# Ordenar por cantidad de partidas usadas, de mayor a menor\n",
    "tabla_items = tabla_items.sort_values(by='partidas_ganadas', ascending=False).reset_index()\n",
    "tabla_items['win_rate'] = tabla_items['win_rate'].apply(lambda x: f\"{x*100:.2f}%\")\n",
    "tabla_items = tabla_items[tabla_items['partidas_usadas'] >= 5]\n",
    "tabla_items.head(13)"
   ]
  },
  {
   "cell_type": "code",
   "execution_count": null,
   "id": "c3bdf9e2-2a1b-4066-97cf-0a52116c0ef3",
   "metadata": {},
   "outputs": [],
   "source": []
  }
 ],
 "metadata": {
  "kernelspec": {
   "display_name": "Python [conda env:base] *",
   "language": "python",
   "name": "conda-base-py"
  },
  "language_info": {
   "codemirror_mode": {
    "name": "ipython",
    "version": 3
   },
   "file_extension": ".py",
   "mimetype": "text/x-python",
   "name": "python",
   "nbconvert_exporter": "python",
   "pygments_lexer": "ipython3",
   "version": "3.13.5"
  },
  "panel-cell-order": [
   "4620d680-77ec-445f-a5e6-8b26130f979e",
   "1e2d7729-bde1-4f41-8f1f-f566fd2d0e4f",
   "8abf9320-7201-424d-a769-31e0d615548e",
   "4609306e-6717-4285-a31f-346946004f10",
   "b713c355-17ec-4672-ba93-511c903b9294"
  ]
 },
 "nbformat": 4,
 "nbformat_minor": 5
}
